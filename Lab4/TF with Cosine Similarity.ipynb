{
 "cells": [
  {
   "cell_type": "markdown",
   "id": "e1581fb0",
   "metadata": {},
   "source": [
    "# 1.Term Frequency(TF)"
   ]
  },
  {
   "cell_type": "code",
   "execution_count": 1,
   "id": "5e7d7885",
   "metadata": {},
   "outputs": [],
   "source": [
    "import math\n",
    "import pandas as pd\n",
    "import numpy as np"
   ]
  },
  {
   "cell_type": "code",
   "execution_count": 2,
   "id": "3aa4f0d9",
   "metadata": {},
   "outputs": [],
   "source": [
    "#documents\n",
    "doc1=\"happy happy happy happy happy  cat cat cat cat cat cat cat cat cat cat cat cat \"\n",
    "doc2=\"cat cat cat cat happy happy happy \"\n",
    "#query striing\n",
    "query=\"happy cat\""
   ]
  },
  {
   "cell_type": "code",
   "execution_count": 3,
   "id": "dbd778f2",
   "metadata": {},
   "outputs": [],
   "source": [
    "#text preprocessing steps are ignored as the objective of this kernal is to expalin and develop TF-IDF and cosine similarity from scratch"
   ]
  },
  {
   "cell_type": "code",
   "execution_count": 4,
   "id": "399f7ed8",
   "metadata": {},
   "outputs": [
    {
     "name": "stdout",
     "output_type": "stream",
     "text": [
      "         Document     cat  happy\n",
      "0  Term Frequency  2   12      5\n",
      "         Document     cat  happy\n",
      "0  Term Frequency  1    4      3\n"
     ]
    }
   ],
   "source": [
    "#term - frequency : word occurences in a document\n",
    "\n",
    "def compute_tf(docs_list):\n",
    "    for doc in docs_list:\n",
    "        doc1_lst=doc.split(\" \")\n",
    "        \n",
    "        wordDict_1=dict.fromkeys(set(doc1_lst),0)\n",
    "        \n",
    "        for token in doc1_lst:\n",
    "            wordDict_1[token]+=1\n",
    "        df=pd.DataFrame([wordDict_1])\n",
    "        idx=0\n",
    "        \n",
    "        new_col=[\"Term Frequency\"]\n",
    "        \n",
    "        df.insert(loc=idx,column=\"Document\",value=new_col)\n",
    "        \n",
    "        print(df)\n",
    "        \n",
    "\n",
    "compute_tf([doc1,doc2])\n",
    "        \n",
    "    "
   ]
  },
  {
   "cell_type": "markdown",
   "id": "5d9ab5f9",
   "metadata": {},
   "source": [
    "in reality each document will be of different size. On a large document the frequency of the terms will be much higher than the smaller ones . Hence we need to normaluze the document based on its size\n",
    "\n",
    "A simple  trick is to divide the term frequency by the total number of terms \n",
    "\n",
    "for example in document 1 the term \"game\" occures 2 times. the total number of terms in the document is 10. Hence the normalized term frequency is 2/10=0.2\n",
    "\n",
    "\n",
    "Given below are the normalized term frequency for all documents "
   ]
  },
  {
   "cell_type": "code",
   "execution_count": 5,
   "id": "27df103e",
   "metadata": {},
   "outputs": [
    {
     "name": "stdout",
     "output_type": "stream",
     "text": [
      "         Document       cat     happy\n",
      "0  Normallized TF  0.705882  0.294118\n",
      "         Document       cat     happy\n",
      "0  Normallized TF  0.571429  0.428571\n"
     ]
    },
    {
     "data": {
      "text/plain": [
       "[{'cat': 0.7058823529411765, 'happy': 0.29411764705882354},\n",
       " {'cat': 0.5714285714285714, 'happy': 0.42857142857142855}]"
      ]
     },
     "execution_count": 5,
     "metadata": {},
     "output_type": "execute_result"
    }
   ],
   "source": [
    "#normalized term frequency\n",
    "def termFrequency(term,document):\n",
    "    normalizeDocumnet =document.lower().split()\n",
    "    return normalizeDocumnet.count(term.lower())/float(len(normalizeDocumnet))\n",
    "    \n",
    "    \n",
    "    \n",
    "def compute_normalizedTF(documents):\n",
    "    tf_doc=[]\n",
    "    \n",
    "    for txt in documents:\n",
    "        sentence =txt.split()\n",
    "        norm_tf=dict.fromkeys(set(sentence),0)\n",
    "        \n",
    "        for word in sentence:\n",
    "            norm_tf[word]=termFrequency(word,txt)\n",
    "            \n",
    "        tf_doc.append(norm_tf)\n",
    "        \n",
    "        df=pd.DataFrame([norm_tf])\n",
    "        \n",
    "        idx=0\n",
    "        new_col=[\"Normallized TF\"]\n",
    "        \n",
    "        df.insert(loc=idx,column=\"Document\",value=new_col)\n",
    "        print(df)\n",
    "        \n",
    "    return tf_doc\n",
    "\n",
    "tf_doc=compute_normalizedTF([doc1,doc2])\n",
    "tf_doc"
   ]
  },
  {
   "cell_type": "markdown",
   "id": "aa6afe2c",
   "metadata": {},
   "source": [
    "# 2) IDF"
   ]
  },
  {
   "cell_type": "code",
   "execution_count": 6,
   "id": "0c3bdccb",
   "metadata": {},
   "outputs": [
    {
     "data": {
      "text/plain": [
       "{'happy': 1.0, 'cat': 1.0}"
      ]
     },
     "execution_count": 6,
     "metadata": {},
     "output_type": "execute_result"
    }
   ],
   "source": [
    "def IDF(term,allDocuments):\n",
    "    numDocumentsWithThisTerm=0\n",
    "    \n",
    "    for doc in range (0,len(allDocuments)):\n",
    "        if term.lower() in allDocuments[doc].lower().split():\n",
    "            numDocumentsWithThisTerm=numDocumentsWithThisTerm+1\n",
    "            \n",
    "    \n",
    "    if numDocumentsWithThisTerm>0:\n",
    "        return 1.0+math.log(float(len(allDocuments))/numDocumentsWithThisTerm)\n",
    "    else:\n",
    "        return 1.0\n",
    "\n",
    "    \n",
    "    \n",
    "def compute_idf(documents):\n",
    "    idf_dict={}\n",
    "    for doc in documents :\n",
    "        sentence=doc.split()\n",
    "        for word in sentence:\n",
    "            idf_dict[word]=IDF(word,documents)\n",
    "            \n",
    "    return idf_dict\n",
    "\n",
    "\n",
    "idf_dict = compute_idf([doc1,doc2])\n",
    "\n",
    "compute_idf([doc1,doc2])"
   ]
  },
  {
   "cell_type": "markdown",
   "id": "283cdfde",
   "metadata": {},
   "source": [
    "# 3) TF-IDF"
   ]
  },
  {
   "cell_type": "markdown",
   "id": "1ef4dfde",
   "metadata": {},
   "source": [
    "Remember we are trying to find out relevant documents for the query \"life learning\"\n",
    "\n",
    "for each term in the query multiply its normalized term frequency with its IDF on each document\n",
    "\n",
    "in document1 for the term \"life \" the normalized term frequency is 0.1 and its IDF is 1.4054651081081644\n",
    "\n",
    "Multiplying them together we get (0.1 * 1.4054651081081644)\n",
    "\n",
    "Given below is TF * IDF calculations for \"life\" and \"learning\" in all the documents"
   ]
  },
  {
   "cell_type": "code",
   "execution_count": 7,
   "id": "5db2b324",
   "metadata": {},
   "outputs": [
    {
     "name": "stdout",
     "output_type": "stream",
     "text": [
      "   doc ID     happy       cat\n",
      "0     0.0  0.294118  0.705882\n",
      "1     1.0  0.428571  0.571429\n"
     ]
    }
   ],
   "source": [
    "#tf-idf score across all docs for the query string (\"life learning\")\n",
    "def compute_tfidf_with_alldocs(documents,query):\n",
    "    tf_idf=[]\n",
    "    index=0\n",
    "    \n",
    "    query_tokens=query=query.split()\n",
    "    df=pd.DataFrame(columns=[\"doc ID\"]+query_tokens)\n",
    "    \n",
    "    for doc in documents:\n",
    "        df[\"doc ID\"]=np.arange(0,len(documents))\n",
    "        doc_num=tf_doc[index]\n",
    "        \n",
    "        sentence=doc.split()\n",
    "        \n",
    "        for word in sentence:\n",
    "            for text in query_tokens:\n",
    "                if(text==word):\n",
    "                    idx=sentence.index(word)\n",
    "                    tf_idf_score=doc_num[word]*idf_dict[word]\n",
    "                    tf_idf.append(tf_idf_score)\n",
    "                    df.iloc[index,df.columns.get_loc(word)]=tf_idf_score\n",
    "                    \n",
    "        index+=1\n",
    "        \n",
    "    df.fillna(0,axis=1,inplace=True)\n",
    "    \n",
    "    return tf_idf,df\n",
    "\n",
    "\n",
    "\n",
    "documents=[doc1,doc2]\n",
    "tf_idf,df=compute_tfidf_with_alldocs(documents,query)\n",
    "\n",
    "print(df)"
   ]
  },
  {
   "cell_type": "markdown",
   "id": "1fecaf7b",
   "metadata": {},
   "source": [
    "# 4) Vector space models and representation - cosine similarity "
   ]
  },
  {
   "cell_type": "code",
   "execution_count": 8,
   "id": "dddfbfe3",
   "metadata": {},
   "outputs": [
    {
     "name": "stdout",
     "output_type": "stream",
     "text": [
      "{'happy': 0.5, 'cat': 0.5}\n"
     ]
    }
   ],
   "source": [
    "#normalized TF for the query string (\"life learning\")\n",
    "def compute_query_tf(query):\n",
    "    query_norm_tf={}\n",
    "    tokens=query.split()\n",
    "    for word in tokens:\n",
    "        query_norm_tf[word]=termFrequency(word,query)\n",
    "    return query_norm_tf\n",
    "\n",
    "query_norm_tf=compute_query_tf(query)\n",
    "print(query_norm_tf)"
   ]
  },
  {
   "cell_type": "code",
   "execution_count": 9,
   "id": "97a2c60c",
   "metadata": {},
   "outputs": [
    {
     "name": "stdout",
     "output_type": "stream",
     "text": [
      "{'happy': 1.0, 'cat': 1.0}\n"
     ]
    }
   ],
   "source": [
    "#idf score for the query string(\"life learning\")\n",
    "def compute_query_idf(query):\n",
    "    idf_dict_qry={}\n",
    "    sentence = query.split()\n",
    "    documents=[doc1,doc2]\n",
    "    \n",
    "    for word in sentence:\n",
    "        idf_dict_qry[word]=IDF(word,documents)\n",
    "        \n",
    "    return idf_dict_qry\n",
    "\n",
    "idf_dict_qry = compute_query_idf(query)\n",
    "print(idf_dict_qry)\n",
    "\n",
    "\n",
    "    "
   ]
  },
  {
   "cell_type": "code",
   "execution_count": 10,
   "id": "16926b87",
   "metadata": {},
   "outputs": [
    {
     "name": "stdout",
     "output_type": "stream",
     "text": [
      "{'happy': 0.5, 'cat': 0.5}\n"
     ]
    }
   ],
   "source": [
    "#tf-idf score for the query string (\"life learning\")\n",
    "def compute_query_tfidf(query):\n",
    "    tfidf_dict_qry={}\n",
    "    sentence=query.split()\n",
    "    \n",
    "    for word in sentence:\n",
    "        tfidf_dict_qry[word]=query_norm_tf[word] * idf_dict_qry[word]\n",
    "    return tfidf_dict_qry\n",
    "\n",
    "tfidf_dict_qry=compute_query_tfidf(query)\n",
    "\n",
    "print(tfidf_dict_qry)"
   ]
  },
  {
   "cell_type": "code",
   "execution_count": 11,
   "id": "a0c436f2",
   "metadata": {},
   "outputs": [],
   "source": [
    "def cosine_similarity(tfidf_dict_qry,df,query,doc_num):\n",
    "    \n",
    "    dot_product=0\n",
    "    qry_mod=0\n",
    "    doc_mod=0\n",
    "    tokens=query.split()\n",
    "    \n",
    "    for keyword in tokens:\n",
    "        dot_product+=tfidf_dict_qry[keyword] * df[keyword][df['doc ID'] ==doc_num]\n",
    "        \n",
    "        #||Query||\n",
    "        qry_mod+=tfidf_dict_qry[keyword] * tfidf_dict_qry[keyword]\n",
    "        \n",
    "        #||Document||\n",
    "        doc_mod+=df[keyword][df['doc ID']==doc_num] * df[keyword][df['doc ID']==doc_num]\n",
    "        \n",
    "    qry_mod = np.sqrt(qry_mod)\n",
    "    doc_mod=np.sqrt(doc_mod)\n",
    "    \n",
    "    #implement formular\n",
    "    denominator = qry_mod * doc_mod\n",
    "    cos_sin = dot_product/denominator\n",
    "    \n",
    "    return cos_sin\n",
    "\n",
    "\n",
    "\n"
   ]
  },
  {
   "cell_type": "code",
   "execution_count": 16,
   "id": "1d4192aa",
   "metadata": {},
   "outputs": [
    {
     "data": {
      "text/plain": [
       "0    0.924678\n",
       "Name: happy, dtype: float64"
      ]
     },
     "execution_count": 16,
     "metadata": {},
     "output_type": "execute_result"
    }
   ],
   "source": [
    "cosine_similarity(tfidf_dict_qry,df,query,0)"
   ]
  },
  {
   "cell_type": "code",
   "execution_count": 12,
   "id": "19bda2b2",
   "metadata": {},
   "outputs": [],
   "source": [
    "from collections.abc import Iterable"
   ]
  },
  {
   "cell_type": "code",
   "execution_count": 13,
   "id": "6a97edf2",
   "metadata": {},
   "outputs": [],
   "source": [
    "def flatten(lis):\n",
    "    for item in lis:\n",
    "        if isinstance(item,Iterable) and not isinstance(item,str):\n",
    "            for x in flatten(item):\n",
    "                yield x\n",
    "                \n",
    "        else:\n",
    "            yield item"
   ]
  },
  {
   "cell_type": "code",
   "execution_count": 14,
   "id": "cd988bb5",
   "metadata": {},
   "outputs": [
    {
     "name": "stdout",
     "output_type": "stream",
     "text": [
      "['Document1', 'Document2']\n",
      "[0.9246780984747159, 0.9899494936611667]\n"
     ]
    }
   ],
   "source": [
    "def rank_similarity_docs(data):\n",
    "    cos_sin = []\n",
    "    for doc_num in range(0,len(data)):\n",
    "        cos_sin.append(cosine_similarity(tfidf_dict_qry,df,query,doc_num).tolist())\n",
    "        \n",
    "    return cos_sin\n",
    "\n",
    "similarity_docs=rank_similarity_docs(documents)\n",
    "\n",
    "doc_names=[\"Document1\",\"Document2\"]\n",
    "\n",
    "print(doc_names)\n",
    "print(list(flatten(similarity_docs)))"
   ]
  },
  {
   "cell_type": "markdown",
   "id": "259e1f5f",
   "metadata": {},
   "source": [
    "# Method 2"
   ]
  },
  {
   "cell_type": "code",
   "execution_count": 17,
   "id": "74858c77",
   "metadata": {},
   "outputs": [
    {
     "name": "stdout",
     "output_type": "stream",
     "text": [
      "Cosine Similarity between Query and Doc1: 0.9246780984747162\n",
      "Cosine Similarity between Query and Doc2: 0.9899494936611666\n"
     ]
    }
   ],
   "source": [
    "from sklearn.feature_extraction.text import TfidfVectorizer\n",
    "from sklearn.metrics.pairwise import cosine_similarity\n",
    "\n",
    "# Documents\n",
    "doc1 = \"happy happy happy happy happy cat cat cat cat cat cat cat cat cat cat cat cat\"\n",
    "doc2 = \"cat cat cat cat happy happy happy\"\n",
    "# Query string\n",
    "query = \"happy cat\"\n",
    "\n",
    "# Combine documents and query into a list\n",
    "documents = [doc1, doc2, query]\n",
    "\n",
    "# Initialize TfidfVectorizer\n",
    "vectorizer = TfidfVectorizer()\n",
    "\n",
    "# Compute TF-IDF matrix\n",
    "tfidf_matrix = vectorizer.fit_transform(documents)\n",
    "\n",
    "# Calculate cosine similarity between each document and the query\n",
    "cosine_similarities = cosine_similarity(tfidf_matrix[-1], tfidf_matrix[:-1])\n",
    "\n",
    "# Print the cosine similarities\n",
    "for i, similarity in enumerate(cosine_similarities[0]):\n",
    "    print(f\"Cosine Similarity between Query and Doc{i+1}: {similarity}\")"
   ]
  },
  {
   "cell_type": "code",
   "execution_count": null,
   "id": "ef99aaea",
   "metadata": {},
   "outputs": [],
   "source": []
  }
 ],
 "metadata": {
  "kernelspec": {
   "display_name": "Python 3 (ipykernel)",
   "language": "python",
   "name": "python3"
  },
  "language_info": {
   "codemirror_mode": {
    "name": "ipython",
    "version": 3
   },
   "file_extension": ".py",
   "mimetype": "text/x-python",
   "name": "python",
   "nbconvert_exporter": "python",
   "pygments_lexer": "ipython3",
   "version": "3.10.9"
  }
 },
 "nbformat": 4,
 "nbformat_minor": 5
}
