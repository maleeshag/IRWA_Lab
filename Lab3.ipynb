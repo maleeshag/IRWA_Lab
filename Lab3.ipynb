{
  "nbformat": 4,
  "nbformat_minor": 0,
  "metadata": {
    "colab": {
      "provenance": [],
      "authorship_tag": "ABX9TyPnTi5hI2BfkSTSnuwWjdxI",
      "include_colab_link": true
    },
    "kernelspec": {
      "name": "python3",
      "display_name": "Python 3"
    },
    "language_info": {
      "name": "python"
    }
  },
  "cells": [
    {
      "cell_type": "markdown",
      "metadata": {
        "id": "view-in-github",
        "colab_type": "text"
      },
      "source": [
        "<a href=\"https://colab.research.google.com/github/maleeshag/IRWA_Lab/blob/main/Lab3.ipynb\" target=\"_parent\"><img src=\"https://colab.research.google.com/assets/colab-badge.svg\" alt=\"Open In Colab\"/></a>"
      ]
    },
    {
      "cell_type": "code",
      "execution_count": 1,
      "metadata": {
        "colab": {
          "base_uri": "https://localhost:8080/"
        },
        "id": "kkzfX4Gx-Ntl",
        "outputId": "2a43f036-2400-4f7a-c918-50128ee01e76"
      },
      "outputs": [
        {
          "output_type": "stream",
          "name": "stdout",
          "text": [
            "Mounted at /content/drive\n"
          ]
        }
      ],
      "source": [
        "from google.colab import drive\n",
        "drive.mount('/content/drive')"
      ]
    },
    {
      "cell_type": "code",
      "source": [
        "%cd /content/drive/MyDrive/IRWA_lab/ngram"
      ],
      "metadata": {
        "colab": {
          "base_uri": "https://localhost:8080/"
        },
        "id": "ErorHyjm-n70",
        "outputId": "effade95-3da7-4ffd-9b26-26ecd3e1b70e"
      },
      "execution_count": 2,
      "outputs": [
        {
          "output_type": "stream",
          "name": "stdout",
          "text": [
            "/content/drive/MyDrive/IRWA_lab/ngram\n"
          ]
        }
      ]
    },
    {
      "cell_type": "code",
      "source": [
        "import os\n",
        "cwd=os.getcwd()"
      ],
      "metadata": {
        "id": "vfpvqaME-_ij"
      },
      "execution_count": 4,
      "outputs": []
    },
    {
      "cell_type": "code",
      "source": [
        "cwd"
      ],
      "metadata": {
        "colab": {
          "base_uri": "https://localhost:8080/",
          "height": 36
        },
        "id": "-ZS0zer2_DWO",
        "outputId": "39814353-2956-45e2-ef46-86cbe81f8027"
      },
      "execution_count": 5,
      "outputs": [
        {
          "output_type": "execute_result",
          "data": {
            "text/plain": [
              "'/content/drive/MyDrive/IRWA_lab/ngram'"
            ],
            "application/vnd.google.colaboratory.intrinsic+json": {
              "type": "string"
            }
          },
          "metadata": {},
          "execution_count": 5
        }
      ]
    },
    {
      "cell_type": "code",
      "source": [
        "query1='the man went out for a walk'\n",
        "query2='the children sat around the fire'"
      ],
      "metadata": {
        "id": "fArtGAii_DxS"
      },
      "execution_count": 6,
      "outputs": []
    },
    {
      "cell_type": "code",
      "source": [
        "import nltk\n",
        "from nltk.util import ngrams"
      ],
      "metadata": {
        "id": "dq49i0w4_SRK"
      },
      "execution_count": 10,
      "outputs": []
    },
    {
      "cell_type": "code",
      "source": [
        "file_list=os.listdir(cwd)\n",
        "file_list"
      ],
      "metadata": {
        "colab": {
          "base_uri": "https://localhost:8080/"
        },
        "id": "C2JLdtWvAB_D",
        "outputId": "17c34878-72c5-47da-fde3-aac2cdd1e894"
      },
      "execution_count": 44,
      "outputs": [
        {
          "output_type": "execute_result",
          "data": {
            "text/plain": [
              "['D1.txt', 'D2.txt', 'D3.txt', 'D4.txt']"
            ]
          },
          "metadata": {},
          "execution_count": 44
        }
      ]
    },
    {
      "cell_type": "markdown",
      "source": [
        " **1)**"
      ],
      "metadata": {
        "id": "lpcZUng_DmvC"
      }
    },
    {
      "cell_type": "code",
      "source": [
        "def ngram_index(n):\n",
        "  # file_list=os.listdir(cwd)\n",
        "\n",
        "  for file in file_list:\n",
        "    with open(cwd+'/'+file,\"r\") as f:\n",
        "\n",
        "      sentence=str(f.read())\n",
        "\n",
        "      n_gram=ngrams(sentence,n)\n",
        "\n",
        "      x=[''.join(n).replace(\" \",\"$\") for n in n_gram]\n",
        "\n",
        "      print(x)"
      ],
      "metadata": {
        "id": "tRixrJ7u_ciH"
      },
      "execution_count": 98,
      "outputs": []
    },
    {
      "cell_type": "code",
      "source": [
        "ngram_index(2)"
      ],
      "metadata": {
        "colab": {
          "base_uri": "https://localhost:8080/"
        },
        "id": "MFua6w11APHi",
        "outputId": "1908d33c-89ed-447d-9ebc-0ea8eaea29fe"
      },
      "execution_count": 99,
      "outputs": [
        {
          "output_type": "stream",
          "name": "stdout",
          "text": [
            "['I$', '$a', 'am', 'm$', '$S', 'Sa', 'am']\n",
            "['Sa', 'am', 'm$', '$I', 'I$', '$a', 'am']\n",
            "['I$', '$d', 'do', 'o$', '$n', 'no', 'ot', 't$', '$l', 'li', 'ik', 'ke', 'e$', '$g', 'gr', 're', 'ee', 'en', 'n$', '$e', 'eg', 'gg', 'gs', 's$', '$a', 'an', 'nd', 'd$', '$h', 'ha', 'am']\n",
            "['I$', '$d', 'do', 'o$', '$n', 'no', 'ot', 't$', '$l', 'li', 'ik', 'ke', 'e$', '$t', 'th', 'he', 'em', 'm,', ',$', '$S', 'Sa', 'am', 'm$', '$I', 'I$', '$a', 'am']\n"
          ]
        }
      ]
    },
    {
      "cell_type": "code",
      "source": [
        "ngram_index(3)"
      ],
      "metadata": {
        "colab": {
          "base_uri": "https://localhost:8080/"
        },
        "id": "gOdAOpVJBAak",
        "outputId": "a1773f8f-2bc2-4267-a569-78c327a06d76"
      },
      "execution_count": 28,
      "outputs": [
        {
          "output_type": "stream",
          "name": "stdout",
          "text": [
            "['I$a', '$am', 'am$', 'm$S', '$Sa', 'Sam']\n",
            "['Sam', 'am$', 'm$I', '$I$', 'I$a', '$am']\n",
            "['I$d', '$do', 'do$', 'o$n', '$no', 'not', 'ot$', 't$l', '$li', 'lik', 'ike', 'ke$', 'e$g', '$gr', 'gre', 'ree', 'een', 'en$', 'n$e', '$eg', 'egg', 'ggs', 'gs$', 's$a', '$an', 'and', 'nd$', 'd$h', '$ha', 'ham']\n",
            "['I$d', '$do', 'do$', 'o$n', '$no', 'not', 'ot$', 't$l', '$li', 'lik', 'ike', 'ke$', 'e$t', '$th', 'the', 'hem', 'em,', 'm,$', ',$S', '$Sa', 'Sam', 'am$', 'm$I', '$I$', 'I$a', '$am']\n"
          ]
        }
      ]
    },
    {
      "cell_type": "code",
      "source": [
        "ngram_index(1)"
      ],
      "metadata": {
        "colab": {
          "base_uri": "https://localhost:8080/"
        },
        "id": "9E0n9nf6BrHU",
        "outputId": "feb43a1b-f10e-4ead-deb2-e922879b82be"
      },
      "execution_count": 29,
      "outputs": [
        {
          "output_type": "stream",
          "name": "stdout",
          "text": [
            "['I', '$', 'a', 'm', '$', 'S', 'a', 'm']\n",
            "['S', 'a', 'm', '$', 'I', '$', 'a', 'm']\n",
            "['I', '$', 'd', 'o', '$', 'n', 'o', 't', '$', 'l', 'i', 'k', 'e', '$', 'g', 'r', 'e', 'e', 'n', '$', 'e', 'g', 'g', 's', '$', 'a', 'n', 'd', '$', 'h', 'a', 'm']\n",
            "['I', '$', 'd', 'o', '$', 'n', 'o', 't', '$', 'l', 'i', 'k', 'e', '$', 't', 'h', 'e', 'm', ',', '$', 'S', 'a', 'm', '$', 'I', '$', 'a', 'm']\n"
          ]
        }
      ]
    },
    {
      "cell_type": "markdown",
      "source": [
        "**b)Write code to find out the Jaccard coefficient between the given documents based on\n",
        "different k.**"
      ],
      "metadata": {
        "id": "LhfUlYPiDhlv"
      }
    },
    {
      "cell_type": "code",
      "source": [
        "def jaccard(x,y):\n",
        "  a=x.intersection(y)\n",
        "\n",
        "  b=x.union(y)\n",
        "\n",
        "  return(len(a)/len(b))"
      ],
      "metadata": {
        "id": "gBA4P6PHDfnr"
      },
      "execution_count": 30,
      "outputs": []
    },
    {
      "cell_type": "code",
      "source": [
        "with open(cwd+'/D1.txt','r') as f:\n",
        "  sentence1=f.read()"
      ],
      "metadata": {
        "id": "2RGklIUMEEo1"
      },
      "execution_count": 62,
      "outputs": []
    },
    {
      "cell_type": "code",
      "source": [
        "sentence1"
      ],
      "metadata": {
        "colab": {
          "base_uri": "https://localhost:8080/",
          "height": 36
        },
        "id": "UlAqKQdTHfFY",
        "outputId": "cfcf5c27-eae4-43d4-d6b0-59b7ed8dc1d7"
      },
      "execution_count": 63,
      "outputs": [
        {
          "output_type": "execute_result",
          "data": {
            "text/plain": [
              "'I am Sam'"
            ],
            "application/vnd.google.colaboratory.intrinsic+json": {
              "type": "string"
            }
          },
          "metadata": {},
          "execution_count": 63
        }
      ]
    },
    {
      "cell_type": "code",
      "source": [
        "with open(cwd+'/D2.txt','r') as f:\n",
        "  sentence2=f.read()"
      ],
      "metadata": {
        "id": "sh1cFs3VHgJB"
      },
      "execution_count": 59,
      "outputs": []
    },
    {
      "cell_type": "code",
      "source": [
        "sentence2"
      ],
      "metadata": {
        "colab": {
          "base_uri": "https://localhost:8080/",
          "height": 36
        },
        "id": "RMnGvU61Hh9g",
        "outputId": "5534f0f3-7281-41d9-8c8b-a773e17c675f"
      },
      "execution_count": 60,
      "outputs": [
        {
          "output_type": "execute_result",
          "data": {
            "text/plain": [
              "'Sam I am'"
            ],
            "application/vnd.google.colaboratory.intrinsic+json": {
              "type": "string"
            }
          },
          "metadata": {},
          "execution_count": 60
        }
      ]
    },
    {
      "cell_type": "code",
      "source": [
        "n_gramS1=ngrams(sentence1,2)\n",
        "x=[''.join(n).replace(\" \",\"$\") for n in n_gramS1]\n",
        "x"
      ],
      "metadata": {
        "colab": {
          "base_uri": "https://localhost:8080/"
        },
        "id": "SXbOsTAzHjmM",
        "outputId": "f76655b8-30db-4296-c732-ff581cb6f34a"
      },
      "execution_count": 76,
      "outputs": [
        {
          "output_type": "execute_result",
          "data": {
            "text/plain": [
              "['I$', '$a', 'am', 'm$', '$S', 'Sa', 'am']"
            ]
          },
          "metadata": {},
          "execution_count": 76
        }
      ]
    },
    {
      "cell_type": "code",
      "source": [
        "n_gramS2=ngrams(sentence2,2)\n",
        "y=[''.join(n).replace(' ','$') for n in n_gramS2 ]\n",
        "y"
      ],
      "metadata": {
        "colab": {
          "base_uri": "https://localhost:8080/"
        },
        "id": "hCJ-YFghHrFp",
        "outputId": "4d6b3861-fe62-4cb3-8d0c-5fcce529331b"
      },
      "execution_count": 77,
      "outputs": [
        {
          "output_type": "execute_result",
          "data": {
            "text/plain": [
              "['Sa', 'am', 'm$', '$I', 'I$', '$a', 'am']"
            ]
          },
          "metadata": {},
          "execution_count": 77
        }
      ]
    },
    {
      "cell_type": "code",
      "source": [
        "jaccard(set(x),set(y))"
      ],
      "metadata": {
        "colab": {
          "base_uri": "https://localhost:8080/"
        },
        "id": "NyoB1qYKIOab",
        "outputId": "f3eb21ff-e2b4-4ab9-8775-ca965b853da7"
      },
      "execution_count": 78,
      "outputs": [
        {
          "output_type": "execute_result",
          "data": {
            "text/plain": [
              "0.7142857142857143"
            ]
          },
          "metadata": {},
          "execution_count": 78
        }
      ]
    },
    {
      "cell_type": "markdown",
      "source": [
        "**2)Apply levenshtein algorithm to “python” and “pythonly” and get the minimum edit distance**"
      ],
      "metadata": {
        "id": "Q0ROh0DIJ8J5"
      }
    },
    {
      "cell_type": "code",
      "source": [
        "from nltk.metrics.distance import edit_distance\n"
      ],
      "metadata": {
        "id": "lNIyDcEiIPhS"
      },
      "execution_count": 79,
      "outputs": []
    },
    {
      "cell_type": "code",
      "source": [
        "print(edit_distance('python','pythonly'))"
      ],
      "metadata": {
        "colab": {
          "base_uri": "https://localhost:8080/"
        },
        "id": "qAnLm3M4QDov",
        "outputId": "687b782d-c87b-4e40-c5cf-931356b93104"
      },
      "execution_count": 88,
      "outputs": [
        {
          "output_type": "stream",
          "name": "stdout",
          "text": [
            "2\n"
          ]
        }
      ]
    },
    {
      "cell_type": "code",
      "source": [
        "pip install python-Levenshtein"
      ],
      "metadata": {
        "colab": {
          "base_uri": "https://localhost:8080/"
        },
        "id": "H7fusuZ0Qfm4",
        "outputId": "56560aeb-8d0d-475e-bc3f-aaf52a11fd7b"
      },
      "execution_count": 83,
      "outputs": [
        {
          "output_type": "stream",
          "name": "stdout",
          "text": [
            "Collecting python-Levenshtein\n",
            "  Downloading python_Levenshtein-0.21.1-py3-none-any.whl (9.4 kB)\n",
            "Collecting Levenshtein==0.21.1 (from python-Levenshtein)\n",
            "  Downloading Levenshtein-0.21.1-cp310-cp310-manylinux_2_17_x86_64.manylinux2014_x86_64.whl (172 kB)\n",
            "\u001b[2K     \u001b[90m━━━━━━━━━━━━━━━━━━━━━━━━━━━━━━━━━━━━━━━\u001b[0m \u001b[32m172.5/172.5 kB\u001b[0m \u001b[31m4.5 MB/s\u001b[0m eta \u001b[36m0:00:00\u001b[0m\n",
            "\u001b[?25hCollecting rapidfuzz<4.0.0,>=2.3.0 (from Levenshtein==0.21.1->python-Levenshtein)\n",
            "  Downloading rapidfuzz-3.3.0-cp310-cp310-manylinux_2_17_x86_64.manylinux2014_x86_64.whl (3.1 MB)\n",
            "\u001b[2K     \u001b[90m━━━━━━━━━━━━━━━━━━━━━━━━━━━━━━━━━━━━━━━━\u001b[0m \u001b[32m3.1/3.1 MB\u001b[0m \u001b[31m18.2 MB/s\u001b[0m eta \u001b[36m0:00:00\u001b[0m\n",
            "\u001b[?25hInstalling collected packages: rapidfuzz, Levenshtein, python-Levenshtein\n",
            "Successfully installed Levenshtein-0.21.1 python-Levenshtein-0.21.1 rapidfuzz-3.3.0\n"
          ]
        }
      ]
    },
    {
      "cell_type": "code",
      "source": [
        "import Levenshtein  as lv\n",
        "print(lv.distance('python','pythonly'))"
      ],
      "metadata": {
        "colab": {
          "base_uri": "https://localhost:8080/"
        },
        "id": "5zxxdgOnQI12",
        "outputId": "ed921ed3-c872-46c6-95cf-603eb9c51339"
      },
      "execution_count": 87,
      "outputs": [
        {
          "output_type": "stream",
          "name": "stdout",
          "text": [
            "2\n"
          ]
        }
      ]
    },
    {
      "cell_type": "markdown",
      "source": [
        "**3)Implement the SOUNDEX algorithm**"
      ],
      "metadata": {
        "id": "Trgc8YMyQ3fi"
      }
    },
    {
      "cell_type": "code",
      "source": [
        "def get_soundex(name):\n",
        "  soundex=\"\"\n",
        "  soundex +=name[0]\n",
        "\n",
        "  name=name.upper()\n",
        "\n",
        "  dictionary={'BFPV':\"1\",\"CGJKQSXZ\":\"2\",\"DT\":\"3\",\"L\":\"4\",\"MN\":\"5\",\"R\":\"6\",\"AEIOUHWY\":\"0\"}\n",
        "\n",
        "  for char in name[1:]:\n",
        "    for key in dictionary.keys():\n",
        "      if char in key:\n",
        "        code=dictionary[key]\n",
        "\n",
        "        if code !=soundex[-1]:\n",
        "          soundex+=code\n",
        "\n",
        "  #removing any 0 characters from the soundex code\n",
        "  soundex=soundex.replace(\"0\",\"\")\n",
        "\n",
        "  #truncate the soundex code to make it 4 characters long\n",
        "  # soundex=soundex[:4].ljust(4,\"0\")\n",
        "\n",
        "  return (soundex.upper())\n",
        "\n"
      ],
      "metadata": {
        "id": "7NGJ-pGIo0-K"
      },
      "execution_count": 114,
      "outputs": []
    },
    {
      "cell_type": "code",
      "source": [
        "get_soundex(\"son\")"
      ],
      "metadata": {
        "colab": {
          "base_uri": "https://localhost:8080/",
          "height": 36
        },
        "id": "2zEWSKre2R11",
        "outputId": "cae356dd-f622-4ee7-e288-000ad755b9db"
      },
      "execution_count": 118,
      "outputs": [
        {
          "output_type": "execute_result",
          "data": {
            "text/plain": [
              "'S5'"
            ],
            "application/vnd.google.colaboratory.intrinsic+json": {
              "type": "string"
            }
          },
          "metadata": {},
          "execution_count": 118
        }
      ]
    },
    {
      "cell_type": "code",
      "source": [],
      "metadata": {
        "id": "zZvTPFcL201p"
      },
      "execution_count": null,
      "outputs": []
    }
  ]
}