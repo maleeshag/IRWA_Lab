{
  "nbformat": 4,
  "nbformat_minor": 0,
  "metadata": {
    "colab": {
      "provenance": [],
      "authorship_tag": "ABX9TyM8HtjHM/ZCZg4xKkg1xPN5",
      "include_colab_link": true
    },
    "kernelspec": {
      "name": "python3",
      "display_name": "Python 3"
    },
    "language_info": {
      "name": "python"
    }
  },
  "cells": [
    {
      "cell_type": "markdown",
      "metadata": {
        "id": "view-in-github",
        "colab_type": "text"
      },
      "source": [
        "<a href=\"https://colab.research.google.com/github/maleeshag/IRWA_Lab/blob/main/Lab_5_Index_Elimination_%2C_Champion_Lists_%2C_jaccardCofficient.ipynb\" target=\"_parent\"><img src=\"https://colab.research.google.com/assets/colab-badge.svg\" alt=\"Open In Colab\"/></a>"
      ]
    },
    {
      "cell_type": "code",
      "execution_count": 5,
      "metadata": {
        "id": "eKgQCjm8fBuJ"
      },
      "outputs": [],
      "source": [
        "from sklearn.feature_extraction.text import TfidfVectorizer\n",
        "from nltk.tokenize import word_tokenize\n",
        "import numpy as np"
      ]
    },
    {
      "cell_type": "code",
      "source": [
        "import nltk\n",
        "nltk.download('punkt')"
      ],
      "metadata": {
        "colab": {
          "base_uri": "https://localhost:8080/"
        },
        "id": "vGiAEPURfT-3",
        "outputId": "8852696d-3838-495e-f3f1-afeb3e1db467"
      },
      "execution_count": 4,
      "outputs": [
        {
          "output_type": "stream",
          "name": "stderr",
          "text": [
            "[nltk_data] Downloading package punkt to /root/nltk_data...\n",
            "[nltk_data]   Unzipping tokenizers/punkt.zip.\n"
          ]
        },
        {
          "output_type": "execute_result",
          "data": {
            "text/plain": [
              "True"
            ]
          },
          "metadata": {},
          "execution_count": 4
        }
      ]
    },
    {
      "cell_type": "code",
      "source": [
        "documents=[\n",
        "    \"This is document 1. It contains some text for testing.\",\n",
        "    \"Document 2 has different content for testing purposes.\",\n",
        "    \"The third document is here with unique words.\"\n",
        "\n",
        "]\n",
        "query=\"This is a test query for information retrieval.\""
      ],
      "metadata": {
        "id": "4SOqEQ0EffFc"
      },
      "execution_count": 6,
      "outputs": []
    },
    {
      "cell_type": "code",
      "source": [
        "query1=query.lower()\n",
        "document1=[doc.lower() for doc in documents]"
      ],
      "metadata": {
        "id": "5S5oDO0HfuXl"
      },
      "execution_count": 7,
      "outputs": []
    },
    {
      "cell_type": "code",
      "source": [
        "query1"
      ],
      "metadata": {
        "colab": {
          "base_uri": "https://localhost:8080/",
          "height": 36
        },
        "id": "Yl-PoIeigSfe",
        "outputId": "a2bbea78-5277-48c9-b883-246c05d9ac56"
      },
      "execution_count": 8,
      "outputs": [
        {
          "output_type": "execute_result",
          "data": {
            "text/plain": [
              "'this is a test query for information retrieval.'"
            ],
            "application/vnd.google.colaboratory.intrinsic+json": {
              "type": "string"
            }
          },
          "metadata": {},
          "execution_count": 8
        }
      ]
    },
    {
      "cell_type": "code",
      "source": [
        "document1"
      ],
      "metadata": {
        "colab": {
          "base_uri": "https://localhost:8080/"
        },
        "id": "7steL_2YgTuc",
        "outputId": "7bfe971a-d3d7-4382-dbbe-1e86d37c2df2"
      },
      "execution_count": 9,
      "outputs": [
        {
          "output_type": "execute_result",
          "data": {
            "text/plain": [
              "['this is document 1. it contains some text for testing.',\n",
              " 'document 2 has different content for testing purposes.',\n",
              " 'the third document is here with unique words.']"
            ]
          },
          "metadata": {},
          "execution_count": 9
        }
      ]
    },
    {
      "cell_type": "code",
      "source": [
        "tfidf=TfidfVectorizer()"
      ],
      "metadata": {
        "id": "DFuoZ4-OgUjB"
      },
      "execution_count": 11,
      "outputs": []
    },
    {
      "cell_type": "code",
      "source": [
        "doc_tfidf=tfidf.fit_transform(document1)"
      ],
      "metadata": {
        "id": "7thsLl_wgZrU"
      },
      "execution_count": 12,
      "outputs": []
    },
    {
      "cell_type": "code",
      "source": [
        "print(doc_tfidf)"
      ],
      "metadata": {
        "colab": {
          "base_uri": "https://localhost:8080/"
        },
        "id": "X5Pp2VkXgx2n",
        "outputId": "f86233d9-1a15-468d-da3e-f90824f8241b"
      },
      "execution_count": 14,
      "outputs": [
        {
          "output_type": "stream",
          "name": "stdout",
          "text": [
            "  (0, 11)\t0.28574186296253085\n",
            "  (0, 4)\t0.28574186296253085\n",
            "  (0, 12)\t0.3757162113174268\n",
            "  (0, 10)\t0.3757162113174268\n",
            "  (0, 0)\t0.3757162113174268\n",
            "  (0, 8)\t0.3757162113174268\n",
            "  (0, 3)\t0.221904046872743\n",
            "  (0, 7)\t0.28574186296253085\n",
            "  (0, 15)\t0.3757162113174268\n",
            "  (1, 9)\t0.42618350336974425\n",
            "  (1, 1)\t0.42618350336974425\n",
            "  (1, 2)\t0.42618350336974425\n",
            "  (1, 5)\t0.42618350336974425\n",
            "  (1, 11)\t0.3241235393856436\n",
            "  (1, 4)\t0.3241235393856436\n",
            "  (1, 3)\t0.2517108425440014\n",
            "  (2, 18)\t0.3799446164315741\n",
            "  (2, 16)\t0.3799446164315741\n",
            "  (2, 17)\t0.3799446164315741\n",
            "  (2, 6)\t0.3799446164315741\n",
            "  (2, 14)\t0.3799446164315741\n",
            "  (2, 13)\t0.3799446164315741\n",
            "  (2, 3)\t0.22440141104916914\n",
            "  (2, 7)\t0.28895767404089806\n"
          ]
        }
      ]
    },
    {
      "cell_type": "code",
      "source": [
        "query_tfidf=tfidf.fit_transform([query1])"
      ],
      "metadata": {
        "id": "rYlab1HngzZS"
      },
      "execution_count": 19,
      "outputs": []
    },
    {
      "cell_type": "code",
      "source": [
        "print(query_tfidf)"
      ],
      "metadata": {
        "colab": {
          "base_uri": "https://localhost:8080/"
        },
        "id": "rMUIdFrthCyx",
        "outputId": "d68c3766-ce1a-4db2-c09d-d4c435992108"
      },
      "execution_count": 21,
      "outputs": [
        {
          "output_type": "stream",
          "name": "stdout",
          "text": [
            "  (0, 4)\t0.3779644730092272\n",
            "  (0, 1)\t0.3779644730092272\n",
            "  (0, 0)\t0.3779644730092272\n",
            "  (0, 3)\t0.3779644730092272\n",
            "  (0, 5)\t0.3779644730092272\n",
            "  (0, 2)\t0.3779644730092272\n",
            "  (0, 6)\t0.3779644730092272\n"
          ]
        }
      ]
    },
    {
      "cell_type": "code",
      "source": [
        "qt_tokens=word_tokenize(query1)"
      ],
      "metadata": {
        "id": "VvUbz_Z3hjRk"
      },
      "execution_count": 22,
      "outputs": []
    },
    {
      "cell_type": "code",
      "source": [
        "qt_tokens"
      ],
      "metadata": {
        "colab": {
          "base_uri": "https://localhost:8080/"
        },
        "id": "YR4e72YKiIPS",
        "outputId": "349efb1b-acf1-4553-94de-09da0c467536"
      },
      "execution_count": 23,
      "outputs": [
        {
          "output_type": "execute_result",
          "data": {
            "text/plain": [
              "['this', 'is', 'a', 'test', 'query', 'for', 'information', 'retrieval', '.']"
            ]
          },
          "metadata": {},
          "execution_count": 23
        }
      ]
    },
    {
      "cell_type": "code",
      "source": [
        "champion_lists={}"
      ],
      "metadata": {
        "id": "ItLfrJcziLOa"
      },
      "execution_count": 24,
      "outputs": []
    },
    {
      "cell_type": "code",
      "source": [
        "for i,term in enumerate(qt_tokens):\n",
        "  doc_terms=doc_tfidf[:,i].toarray().flatten()\n",
        "  max_docs=list(reversed(np.argsort(doc_terms)))[:2]\n",
        "\n",
        "  champion_lists[term]=max_docs\n",
        "\n",
        "\n",
        "champion_lists"
      ],
      "metadata": {
        "colab": {
          "base_uri": "https://localhost:8080/"
        },
        "id": "E89gftgwiNJA",
        "outputId": "3ef6def0-f956-4a2e-f844-fe54d714daa7"
      },
      "execution_count": 25,
      "outputs": [
        {
          "output_type": "execute_result",
          "data": {
            "text/plain": [
              "{'this': [0, 2],\n",
              " 'is': [1, 2],\n",
              " 'a': [1, 2],\n",
              " 'test': [1, 2],\n",
              " 'query': [1, 0],\n",
              " 'for': [1, 2],\n",
              " 'information': [2, 1],\n",
              " 'retrieval': [2, 0],\n",
              " '.': [0, 2]}"
            ]
          },
          "metadata": {},
          "execution_count": 25
        }
      ]
    },
    {
      "cell_type": "code",
      "source": [
        "qs=set(word_tokenize(query.lower()))"
      ],
      "metadata": {
        "id": "k6GRBbHRjeBk"
      },
      "execution_count": 26,
      "outputs": []
    },
    {
      "cell_type": "code",
      "source": [
        "qs"
      ],
      "metadata": {
        "colab": {
          "base_uri": "https://localhost:8080/"
        },
        "id": "HtQfuZKZj-uE",
        "outputId": "02284a78-6e38-4a3b-bccb-314fd066a577"
      },
      "execution_count": 27,
      "outputs": [
        {
          "output_type": "execute_result",
          "data": {
            "text/plain": [
              "{'.', 'a', 'for', 'information', 'is', 'query', 'retrieval', 'test', 'this'}"
            ]
          },
          "metadata": {},
          "execution_count": 27
        }
      ]
    },
    {
      "cell_type": "code",
      "source": [
        "ds=[set(word_tokenize(doc.lower())) for doc in documents]"
      ],
      "metadata": {
        "id": "4fejfFZvkAff"
      },
      "execution_count": 28,
      "outputs": []
    },
    {
      "cell_type": "code",
      "source": [
        "print(ds)"
      ],
      "metadata": {
        "colab": {
          "base_uri": "https://localhost:8080/"
        },
        "id": "EnIGJmUlkTNq",
        "outputId": "54b9813b-1326-4081-cbb0-ea9bed9cd53e"
      },
      "execution_count": 30,
      "outputs": [
        {
          "output_type": "stream",
          "name": "stdout",
          "text": [
            "[{'this', 'contains', 'is', '1.', 'for', 'text', 'testing', 'it', 'document', 'some', '.'}, {'2', 'purposes', 'for', 'testing', 'content', 'different', 'document', 'has', '.'}, {'words', 'is', 'third', 'here', 'document', 'unique', 'the', '.', 'with'}]\n"
          ]
        }
      ]
    },
    {
      "cell_type": "code",
      "source": [
        "jaccard_Scores=[len(qs.intersection(s))/len(qs.union(s)) for s in ds]"
      ],
      "metadata": {
        "id": "f6f54RCJkUc4"
      },
      "execution_count": 31,
      "outputs": []
    },
    {
      "cell_type": "code",
      "source": [
        "print(jaccard_Scores)"
      ],
      "metadata": {
        "colab": {
          "base_uri": "https://localhost:8080/"
        },
        "id": "YrV9hVsBkula",
        "outputId": "8c465b61-f9d7-4fe2-f2ab-28f8b3c5cc30"
      },
      "execution_count": 33,
      "outputs": [
        {
          "output_type": "stream",
          "name": "stdout",
          "text": [
            "[0.25, 0.125, 0.125]\n"
          ]
        }
      ]
    },
    {
      "cell_type": "code",
      "source": [
        "z=zip(documents,jaccard_Scores)"
      ],
      "metadata": {
        "id": "5OyYvN2tkvfG"
      },
      "execution_count": 35,
      "outputs": []
    },
    {
      "cell_type": "code",
      "source": [
        "z"
      ],
      "metadata": {
        "colab": {
          "base_uri": "https://localhost:8080/"
        },
        "id": "LS-cTyMYk1FJ",
        "outputId": "213e1ef3-5366-4e84-ff7d-6c0a1bc54a6c"
      },
      "execution_count": 39,
      "outputs": [
        {
          "output_type": "execute_result",
          "data": {
            "text/plain": [
              "<zip at 0x79d1faa81dc0>"
            ]
          },
          "metadata": {},
          "execution_count": 39
        }
      ]
    },
    {
      "cell_type": "code",
      "source": [
        "[i for i,j in z if j>=0.2]"
      ],
      "metadata": {
        "colab": {
          "base_uri": "https://localhost:8080/"
        },
        "id": "amg6AJuMk55g",
        "outputId": "dd7a9f1a-987a-4b7c-dd87-9c86f138b29a"
      },
      "execution_count": 37,
      "outputs": [
        {
          "output_type": "execute_result",
          "data": {
            "text/plain": [
              "['This is document 1. It contains some text for testing.']"
            ]
          },
          "metadata": {},
          "execution_count": 37
        }
      ]
    },
    {
      "cell_type": "code",
      "source": [
        "query1"
      ],
      "metadata": {
        "colab": {
          "base_uri": "https://localhost:8080/",
          "height": 36
        },
        "id": "Vxvsm9Wik7A2",
        "outputId": "f5683667-0864-4a54-9b5a-8dc1d210d3a5"
      },
      "execution_count": 40,
      "outputs": [
        {
          "output_type": "execute_result",
          "data": {
            "text/plain": [
              "'this is a test query for information retrieval.'"
            ],
            "application/vnd.google.colaboratory.intrinsic+json": {
              "type": "string"
            }
          },
          "metadata": {},
          "execution_count": 40
        }
      ]
    },
    {
      "cell_type": "code",
      "source": [
        "document1"
      ],
      "metadata": {
        "colab": {
          "base_uri": "https://localhost:8080/"
        },
        "id": "XkMTzuQOlNVJ",
        "outputId": "d319ba2c-aa4f-4efa-af62-51beeb422875"
      },
      "execution_count": 41,
      "outputs": [
        {
          "output_type": "execute_result",
          "data": {
            "text/plain": [
              "['this is document 1. it contains some text for testing.',\n",
              " 'document 2 has different content for testing purposes.',\n",
              " 'the third document is here with unique words.']"
            ]
          },
          "metadata": {},
          "execution_count": 41
        }
      ]
    },
    {
      "cell_type": "code",
      "source": [
        "tfidf"
      ],
      "metadata": {
        "colab": {
          "base_uri": "https://localhost:8080/",
          "height": 75
        },
        "id": "nPvJYB6mlRh-",
        "outputId": "705e4f34-5f3a-4883-9bbf-2fef1b72da01"
      },
      "execution_count": 42,
      "outputs": [
        {
          "output_type": "execute_result",
          "data": {
            "text/plain": [
              "TfidfVectorizer()"
            ],
            "text/html": [
              "<style>#sk-container-id-1 {color: black;background-color: white;}#sk-container-id-1 pre{padding: 0;}#sk-container-id-1 div.sk-toggleable {background-color: white;}#sk-container-id-1 label.sk-toggleable__label {cursor: pointer;display: block;width: 100%;margin-bottom: 0;padding: 0.3em;box-sizing: border-box;text-align: center;}#sk-container-id-1 label.sk-toggleable__label-arrow:before {content: \"▸\";float: left;margin-right: 0.25em;color: #696969;}#sk-container-id-1 label.sk-toggleable__label-arrow:hover:before {color: black;}#sk-container-id-1 div.sk-estimator:hover label.sk-toggleable__label-arrow:before {color: black;}#sk-container-id-1 div.sk-toggleable__content {max-height: 0;max-width: 0;overflow: hidden;text-align: left;background-color: #f0f8ff;}#sk-container-id-1 div.sk-toggleable__content pre {margin: 0.2em;color: black;border-radius: 0.25em;background-color: #f0f8ff;}#sk-container-id-1 input.sk-toggleable__control:checked~div.sk-toggleable__content {max-height: 200px;max-width: 100%;overflow: auto;}#sk-container-id-1 input.sk-toggleable__control:checked~label.sk-toggleable__label-arrow:before {content: \"▾\";}#sk-container-id-1 div.sk-estimator input.sk-toggleable__control:checked~label.sk-toggleable__label {background-color: #d4ebff;}#sk-container-id-1 div.sk-label input.sk-toggleable__control:checked~label.sk-toggleable__label {background-color: #d4ebff;}#sk-container-id-1 input.sk-hidden--visually {border: 0;clip: rect(1px 1px 1px 1px);clip: rect(1px, 1px, 1px, 1px);height: 1px;margin: -1px;overflow: hidden;padding: 0;position: absolute;width: 1px;}#sk-container-id-1 div.sk-estimator {font-family: monospace;background-color: #f0f8ff;border: 1px dotted black;border-radius: 0.25em;box-sizing: border-box;margin-bottom: 0.5em;}#sk-container-id-1 div.sk-estimator:hover {background-color: #d4ebff;}#sk-container-id-1 div.sk-parallel-item::after {content: \"\";width: 100%;border-bottom: 1px solid gray;flex-grow: 1;}#sk-container-id-1 div.sk-label:hover label.sk-toggleable__label {background-color: #d4ebff;}#sk-container-id-1 div.sk-serial::before {content: \"\";position: absolute;border-left: 1px solid gray;box-sizing: border-box;top: 0;bottom: 0;left: 50%;z-index: 0;}#sk-container-id-1 div.sk-serial {display: flex;flex-direction: column;align-items: center;background-color: white;padding-right: 0.2em;padding-left: 0.2em;position: relative;}#sk-container-id-1 div.sk-item {position: relative;z-index: 1;}#sk-container-id-1 div.sk-parallel {display: flex;align-items: stretch;justify-content: center;background-color: white;position: relative;}#sk-container-id-1 div.sk-item::before, #sk-container-id-1 div.sk-parallel-item::before {content: \"\";position: absolute;border-left: 1px solid gray;box-sizing: border-box;top: 0;bottom: 0;left: 50%;z-index: -1;}#sk-container-id-1 div.sk-parallel-item {display: flex;flex-direction: column;z-index: 1;position: relative;background-color: white;}#sk-container-id-1 div.sk-parallel-item:first-child::after {align-self: flex-end;width: 50%;}#sk-container-id-1 div.sk-parallel-item:last-child::after {align-self: flex-start;width: 50%;}#sk-container-id-1 div.sk-parallel-item:only-child::after {width: 0;}#sk-container-id-1 div.sk-dashed-wrapped {border: 1px dashed gray;margin: 0 0.4em 0.5em 0.4em;box-sizing: border-box;padding-bottom: 0.4em;background-color: white;}#sk-container-id-1 div.sk-label label {font-family: monospace;font-weight: bold;display: inline-block;line-height: 1.2em;}#sk-container-id-1 div.sk-label-container {text-align: center;}#sk-container-id-1 div.sk-container {/* jupyter's `normalize.less` sets `[hidden] { display: none; }` but bootstrap.min.css set `[hidden] { display: none !important; }` so we also need the `!important` here to be able to override the default hidden behavior on the sphinx rendered scikit-learn.org. See: https://github.com/scikit-learn/scikit-learn/issues/21755 */display: inline-block !important;position: relative;}#sk-container-id-1 div.sk-text-repr-fallback {display: none;}</style><div id=\"sk-container-id-1\" class=\"sk-top-container\"><div class=\"sk-text-repr-fallback\"><pre>TfidfVectorizer()</pre><b>In a Jupyter environment, please rerun this cell to show the HTML representation or trust the notebook. <br />On GitHub, the HTML representation is unable to render, please try loading this page with nbviewer.org.</b></div><div class=\"sk-container\" hidden><div class=\"sk-item\"><div class=\"sk-estimator sk-toggleable\"><input class=\"sk-toggleable__control sk-hidden--visually\" id=\"sk-estimator-id-1\" type=\"checkbox\" checked><label for=\"sk-estimator-id-1\" class=\"sk-toggleable__label sk-toggleable__label-arrow\">TfidfVectorizer</label><div class=\"sk-toggleable__content\"><pre>TfidfVectorizer()</pre></div></div></div></div></div>"
            ]
          },
          "metadata": {},
          "execution_count": 42
        }
      ]
    },
    {
      "cell_type": "code",
      "source": [
        "print(doc_tfidf)"
      ],
      "metadata": {
        "colab": {
          "base_uri": "https://localhost:8080/"
        },
        "id": "ROaIucl_lUOq",
        "outputId": "40836e92-f7d9-475e-e4c1-0f812cd1911b"
      },
      "execution_count": 47,
      "outputs": [
        {
          "output_type": "stream",
          "name": "stdout",
          "text": [
            "  (0, 11)\t0.28574186296253085\n",
            "  (0, 4)\t0.28574186296253085\n",
            "  (0, 12)\t0.3757162113174268\n",
            "  (0, 10)\t0.3757162113174268\n",
            "  (0, 0)\t0.3757162113174268\n",
            "  (0, 8)\t0.3757162113174268\n",
            "  (0, 3)\t0.221904046872743\n",
            "  (0, 7)\t0.28574186296253085\n",
            "  (0, 15)\t0.3757162113174268\n",
            "  (1, 9)\t0.42618350336974425\n",
            "  (1, 1)\t0.42618350336974425\n",
            "  (1, 2)\t0.42618350336974425\n",
            "  (1, 5)\t0.42618350336974425\n",
            "  (1, 11)\t0.3241235393856436\n",
            "  (1, 4)\t0.3241235393856436\n",
            "  (1, 3)\t0.2517108425440014\n",
            "  (2, 18)\t0.3799446164315741\n",
            "  (2, 16)\t0.3799446164315741\n",
            "  (2, 17)\t0.3799446164315741\n",
            "  (2, 6)\t0.3799446164315741\n",
            "  (2, 14)\t0.3799446164315741\n",
            "  (2, 13)\t0.3799446164315741\n",
            "  (2, 3)\t0.22440141104916914\n",
            "  (2, 7)\t0.28895767404089806\n"
          ]
        }
      ]
    },
    {
      "cell_type": "code",
      "source": [
        "query_tfidf=tfidf.transform([query1])\n",
        "print(query_tfidf)"
      ],
      "metadata": {
        "colab": {
          "base_uri": "https://localhost:8080/"
        },
        "id": "R_7htptFmcZg",
        "outputId": "4d0245f0-e01b-4fd0-b11e-69d0820687a5"
      },
      "execution_count": 63,
      "outputs": [
        {
          "output_type": "stream",
          "name": "stdout",
          "text": [
            "  (0, 15)\t0.680918560398684\n",
            "  (0, 7)\t0.5178561161676974\n",
            "  (0, 4)\t0.5178561161676974\n"
          ]
        }
      ]
    },
    {
      "cell_type": "code",
      "source": [
        "query_tfidf.toarray()[0]"
      ],
      "metadata": {
        "colab": {
          "base_uri": "https://localhost:8080/"
        },
        "id": "LGpRlntjmAZQ",
        "outputId": "a793677e-b8f6-41bd-c8d8-9c59e4e30795"
      },
      "execution_count": 64,
      "outputs": [
        {
          "output_type": "execute_result",
          "data": {
            "text/plain": [
              "array([0.        , 0.        , 0.        , 0.        , 0.51785612,\n",
              "       0.        , 0.        , 0.51785612, 0.        , 0.        ,\n",
              "       0.        , 0.        , 0.        , 0.        , 0.        ,\n",
              "       0.68091856, 0.        , 0.        , 0.        ])"
            ]
          },
          "metadata": {},
          "execution_count": 64
        }
      ]
    },
    {
      "cell_type": "code",
      "source": [
        "min_tfidf=0.6"
      ],
      "metadata": {
        "id": "ztd-OktslYDG"
      },
      "execution_count": 65,
      "outputs": []
    },
    {
      "cell_type": "code",
      "source": [
        "tfidf.get_feature_names_out()"
      ],
      "metadata": {
        "colab": {
          "base_uri": "https://localhost:8080/"
        },
        "id": "pKdrdGHfla_6",
        "outputId": "d7680d28-a99f-4ca3-94a6-33bf8794c532"
      },
      "execution_count": 66,
      "outputs": [
        {
          "output_type": "execute_result",
          "data": {
            "text/plain": [
              "array(['contains', 'content', 'different', 'document', 'for', 'has',\n",
              "       'here', 'is', 'it', 'purposes', 'some', 'testing', 'text', 'the',\n",
              "       'third', 'this', 'unique', 'with', 'words'], dtype=object)"
            ]
          },
          "metadata": {},
          "execution_count": 66
        }
      ]
    },
    {
      "cell_type": "code",
      "source": [
        "z=zip(tfidf.get_feature_names_out(),query_tfidf.toarray()[0])"
      ],
      "metadata": {
        "id": "pZ66IcIllkNm"
      },
      "execution_count": 67,
      "outputs": []
    },
    {
      "cell_type": "code",
      "source": [
        "[i for i,j in z if j>=min_tfidf]"
      ],
      "metadata": {
        "colab": {
          "base_uri": "https://localhost:8080/"
        },
        "id": "J7dcqEanlnCf",
        "outputId": "5ebe2853-b9d2-4a15-a413-edc1d69eacf2"
      },
      "execution_count": 68,
      "outputs": [
        {
          "output_type": "execute_result",
          "data": {
            "text/plain": [
              "['this']"
            ]
          },
          "metadata": {},
          "execution_count": 68
        }
      ]
    },
    {
      "cell_type": "code",
      "source": [],
      "metadata": {
        "id": "jxurDCiAlpy5"
      },
      "execution_count": null,
      "outputs": []
    }
  ]
}