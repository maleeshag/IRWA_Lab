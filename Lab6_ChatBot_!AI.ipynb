{
  "nbformat": 4,
  "nbformat_minor": 0,
  "metadata": {
    "colab": {
      "provenance": [],
      "authorship_tag": "ABX9TyNDl8nPOFtHvc54oggKfAK2",
      "include_colab_link": true
    },
    "kernelspec": {
      "name": "python3",
      "display_name": "Python 3"
    },
    "language_info": {
      "name": "python"
    }
  },
  "cells": [
    {
      "cell_type": "markdown",
      "metadata": {
        "id": "view-in-github",
        "colab_type": "text"
      },
      "source": [
        "<a href=\"https://colab.research.google.com/github/maleeshag/IRWA_Lab/blob/main/Lab6_ChatBot_!AI.ipynb\" target=\"_parent\"><img src=\"https://colab.research.google.com/assets/colab-badge.svg\" alt=\"Open In Colab\"/></a>"
      ]
    },
    {
      "cell_type": "code",
      "execution_count": 5,
      "metadata": {
        "id": "Ln_kRSc48Mfr",
        "colab": {
          "base_uri": "https://localhost:8080/"
        },
        "outputId": "aedf346b-5429-40a1-fcaa-04835e57ad29"
      },
      "outputs": [
        {
          "output_type": "stream",
          "name": "stdout",
          "text": [
            "Jack: Hello I'm Jack, What is your name?\n",
            "Your answer: Maleesha\n",
            "jack: Hi Maleesha...So what do you wnat to know about our company?\n",
            "ceo name\n",
            "jack: Our CEO is Mr. Jamess Parker\n",
            "----------------------------------------------------------------------------------------------------------\n",
            "Jack: Do you want to know anything else? \n",
            "Continue (yes/no): yes\n",
            "Jack: okay, What do you want to know? \n",
            "address\n",
            "Jack: Our company address is 125 Srimath Anagarika Dharmapala Mawath, colombo 7. You can contact us via emails and via our hotline. our email address abc@gmail.com and the hotline is 0112111111 \n",
            "----------------------------------------------------------------------------------------------------------\n",
            "Jack: Do you want to know anything else? \n",
            "Continue (yes/no): no\n",
            "Jack: Nice to chat with you. Have a nice day.\n"
          ]
        }
      ],
      "source": [
        "print(\"Jack: Hello I'm Jack, What is your name?\")\n",
        "name = input (\"Your answer: \")\n",
        "\n",
        "print (\"jack: Hi {}...So what do you wnat to know about our company?\".format(name))\n",
        "ques=input()\n",
        "\n",
        "\n",
        "\n",
        "def chat_check():\n",
        "  global flag,ques\n",
        "\n",
        "  print(\"----------------------------------------------------------------------------------------------------------\")\n",
        "\n",
        "  print(\"Jack: Do you want to know anything else? \")\n",
        "\n",
        "  check=input(\"Continue (yes/no): \")\n",
        "\n",
        "  if check.lower() == \"yes\":\n",
        "    print(\"Jack: okay, What do you want to know? \")\n",
        "    ques=input()\n",
        "\n",
        "  else:\n",
        "    print(\"Jack: Nice to chat with you. Have a nice day.\")\n",
        "    flag=False\n",
        "\n",
        "\n",
        "\n",
        "flag=True\n",
        "\n",
        "\n",
        "while flag:\n",
        "\n",
        "  if all(i in ques.lower() for i in [\"company\",\"name\"]):\n",
        "    print(\"Jack; Our company is ABC(pvt)Ltd.\")\n",
        "    chat_check()\n",
        "\n",
        "  elif all(i in ques.lower() for i in [\"ceo\",\"name\"]):\n",
        "    print(\"jack: Our CEO is Mr. Jamess Parker\")\n",
        "    chat_check()\n",
        "\n",
        "  elif any(i in ques.lower() for i in [\"contact\",\"address\",\"telephone\",\"email\",\"mobile\",\"location\"]):\n",
        "    print(\"Jack: Our company address is 125 Srimath Anagarika Dharmapala Mawath, colombo 7. You can contact us via emails and via our hotline. our email address abc@gmail.com and the hotline is 0112111111 \")\n",
        "    chat_check()\n",
        "\n",
        "\n",
        "  elif any(i in ques.lower() for i  in [\"service\",\"product\",\"manufacture\"]):\n",
        "    print(\"Jack: Our company is developing Inteligence based enterprise software products.\")\n",
        "    chat_check()\n",
        "\n",
        "  else:\n",
        "    print(\"jack:Your question is not clear {}.\".format(name))\n",
        "    chat_check()\n",
        "\n",
        "\n",
        "\n",
        "\n",
        "\n"
      ]
    },
    {
      "cell_type": "code",
      "source": [],
      "metadata": {
        "id": "ql8Lun6bNqQh"
      },
      "execution_count": null,
      "outputs": []
    }
  ]
}