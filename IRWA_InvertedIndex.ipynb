{
  "nbformat": 4,
  "nbformat_minor": 0,
  "metadata": {
    "colab": {
      "provenance": []
    },
    "kernelspec": {
      "name": "python3",
      "display_name": "Python 3"
    },
    "language_info": {
      "name": "python"
    }
  },
  "cells": [
    {
      "cell_type": "code",
      "execution_count": 1,
      "metadata": {
        "colab": {
          "base_uri": "https://localhost:8080/"
        },
        "id": "HoFUhB8PSZkG",
        "outputId": "2ff08006-f59d-4a2a-f731-c90d556bbecb"
      },
      "outputs": [
        {
          "output_type": "stream",
          "name": "stdout",
          "text": [
            "Drive already mounted at /content/drive; to attempt to forcibly remount, call drive.mount(\"/content/drive\", force_remount=True).\n"
          ]
        }
      ],
      "source": [
        "from google.colab import drive\n",
        "drive.mount('/content/drive')"
      ]
    },
    {
      "cell_type": "code",
      "source": [
        "#commented out IPython magic to ensure Python compatibility\n",
        "%cd /content/drive/MyDrive/IRWA_lab/inverted"
      ],
      "metadata": {
        "colab": {
          "base_uri": "https://localhost:8080/"
        },
        "id": "V04gh7Y1SvF4",
        "outputId": "5e2ea0f1-f607-45db-cbf0-bdb227ab52b7"
      },
      "execution_count": 12,
      "outputs": [
        {
          "output_type": "stream",
          "name": "stdout",
          "text": [
            "/content/drive/MyDrive/IRWA_lab/inverted\n"
          ]
        }
      ]
    },
    {
      "cell_type": "code",
      "source": [
        "import os\n",
        "cwd=os.getcwd()"
      ],
      "metadata": {
        "id": "gF_2IvtDTH8h"
      },
      "execution_count": 13,
      "outputs": []
    },
    {
      "cell_type": "code",
      "source": [
        "#Question a)"
      ],
      "metadata": {
        "id": "_lE2YUfhhW3Q"
      },
      "execution_count": null,
      "outputs": []
    },
    {
      "cell_type": "code",
      "source": [
        "fileList=os.listdir(cwd)\n",
        "print(fileList)"
      ],
      "metadata": {
        "colab": {
          "base_uri": "https://localhost:8080/"
        },
        "id": "LzkmK-wwTLul",
        "outputId": "667a0236-6889-4318-c770-5afb0988329e"
      },
      "execution_count": 14,
      "outputs": [
        {
          "output_type": "stream",
          "name": "stdout",
          "text": [
            "['Doc1.txt', 'Doc2.txt', 'Doc3.txt', 'Doc4.txt']\n"
          ]
        }
      ]
    },
    {
      "cell_type": "code",
      "source": [
        "with open(\"/content/drive/MyDrive/IRWA_lab/inverted/Doc1.txt\",\"r\") as d1:\n",
        "  print(d1.read().split())"
      ],
      "metadata": {
        "colab": {
          "base_uri": "https://localhost:8080/"
        },
        "id": "KZV5jYw4TTQU",
        "outputId": "4799ee60-1195-4e7c-a811-522e9005832f"
      },
      "execution_count": 15,
      "outputs": [
        {
          "output_type": "stream",
          "name": "stdout",
          "text": [
            "['breakthrough', 'drug', 'for', 'schizophrenia']\n"
          ]
        }
      ]
    },
    {
      "cell_type": "code",
      "source": [
        "wordDict=dict()\n"
      ],
      "metadata": {
        "id": "h6z21j85Tns-"
      },
      "execution_count": 21,
      "outputs": []
    },
    {
      "cell_type": "code",
      "source": [
        "for file in fileList:\n",
        "  with open(\"/content/drive/MyDrive/IRWA_lab/inverted/\"+file,\"r\") as f:\n",
        "    words=f.read().lower().split()\n",
        "    #print(words)\n",
        "\n",
        "    for word in  words:\n",
        "      if word not in wordDict:\n",
        "        wordDict[word]=[file]\n",
        "      else:\n",
        "        wordDict[word]+=[file]\n",
        "print(wordDict)"
      ],
      "metadata": {
        "colab": {
          "base_uri": "https://localhost:8080/"
        },
        "id": "JhD9MNijWBh5",
        "outputId": "1783e2a3-79fc-4e36-a8fa-d4852aa5d581"
      },
      "execution_count": 24,
      "outputs": [
        {
          "output_type": "stream",
          "name": "stdout",
          "text": [
            "{'breakthrough': ['Doc1.txt', 'Doc1.txt', 'Doc1.txt'], 'drug': ['Doc1.txt', 'Doc2.txt', 'Doc1.txt', 'Doc2.txt', 'Doc1.txt', 'Doc2.txt'], 'for': ['Doc1.txt', 'Doc3.txt', 'Doc4.txt', 'Doc1.txt', 'Doc3.txt', 'Doc4.txt', 'Doc1.txt', 'Doc3.txt', 'Doc4.txt'], 'schizophrenia': ['Doc1.txt', 'Doc2.txt', 'Doc3.txt', 'Doc4.txt', 'Doc1.txt', 'Doc2.txt', 'Doc3.txt', 'Doc4.txt', 'Doc1.txt', 'Doc2.txt', 'Doc3.txt', 'Doc4.txt'], 'new': ['Doc2.txt', 'Doc3.txt', 'Doc4.txt', 'Doc2.txt', 'Doc3.txt', 'Doc4.txt', 'Doc2.txt', 'Doc3.txt', 'Doc4.txt'], 'approach': ['Doc3.txt', 'Doc3.txt', 'Doc3.txt'], 'treatment': ['Doc3.txt', 'Doc3.txt', 'Doc3.txt'], 'of': ['Doc3.txt', 'Doc3.txt', 'Doc3.txt'], 'hopes': ['Doc4.txt', 'Doc4.txt', 'Doc4.txt'], 'patients': ['Doc4.txt', 'Doc4.txt', 'Doc4.txt']}\n"
          ]
        }
      ]
    },
    {
      "cell_type": "code",
      "source": [
        "def invertedIndex():\n",
        "  wordDict=dict()\n",
        "\n",
        "  for file in fileList:\n",
        "    with open(cwd+\"/\"+file,\"r\") as f:\n",
        "      words=f.read().lower().split()\n",
        "\n",
        "      for word in words:\n",
        "        if word not in wordDict:\n",
        "          wordDict[word]=[file]\n",
        "        else:\n",
        "          wordDict[word]+=[file]\n",
        "  return wordDict"
      ],
      "metadata": {
        "id": "QCfWplh_Xv5T"
      },
      "execution_count": 29,
      "outputs": []
    },
    {
      "cell_type": "code",
      "source": [
        "invertedIndex()"
      ],
      "metadata": {
        "colab": {
          "base_uri": "https://localhost:8080/"
        },
        "id": "zPRDc5pGgchS",
        "outputId": "772d3e61-d0a9-4049-b5b4-e63892246160"
      },
      "execution_count": 30,
      "outputs": [
        {
          "output_type": "execute_result",
          "data": {
            "text/plain": [
              "{'breakthrough': ['Doc1.txt'],\n",
              " 'drug': ['Doc1.txt', 'Doc2.txt'],\n",
              " 'for': ['Doc1.txt', 'Doc3.txt', 'Doc4.txt'],\n",
              " 'schizophrenia': ['Doc1.txt', 'Doc2.txt', 'Doc3.txt', 'Doc4.txt'],\n",
              " 'new': ['Doc2.txt', 'Doc3.txt', 'Doc4.txt'],\n",
              " 'approach': ['Doc3.txt'],\n",
              " 'treatment': ['Doc3.txt'],\n",
              " 'of': ['Doc3.txt'],\n",
              " 'hopes': ['Doc4.txt'],\n",
              " 'patients': ['Doc4.txt']}"
            ]
          },
          "metadata": {},
          "execution_count": 30
        }
      ]
    },
    {
      "cell_type": "code",
      "source": [
        "L=[10,20,30,40,100,200,400]\n",
        "\n",
        "L+[1,2,3]"
      ],
      "metadata": {
        "colab": {
          "base_uri": "https://localhost:8080/"
        },
        "id": "x5FdxVYMgmKp",
        "outputId": "9c1cce3d-8902-4029-a537-a9549769c059"
      },
      "execution_count": 31,
      "outputs": [
        {
          "output_type": "execute_result",
          "data": {
            "text/plain": [
              "[10, 20, 30, 40, 100, 200, 400, 1, 2, 3]"
            ]
          },
          "metadata": {},
          "execution_count": 31
        }
      ]
    },
    {
      "cell_type": "code",
      "source": [
        "set(L)"
      ],
      "metadata": {
        "colab": {
          "base_uri": "https://localhost:8080/"
        },
        "id": "9k4zsr5_g7Fv",
        "outputId": "43f65484-ec6d-4024-fa8d-3ce8d6e45a17"
      },
      "execution_count": 32,
      "outputs": [
        {
          "output_type": "execute_result",
          "data": {
            "text/plain": [
              "{10, 20, 30, 40, 100, 200, 400}"
            ]
          },
          "metadata": {},
          "execution_count": 32
        }
      ]
    },
    {
      "cell_type": "code",
      "source": [
        "a={1,2,3,4,5}\n",
        "b={3,4,5,6,8}\n",
        "\n",
        "a.intersection(b)"
      ],
      "metadata": {
        "colab": {
          "base_uri": "https://localhost:8080/"
        },
        "id": "WAcEoF_rg9wg",
        "outputId": "38ffe467-b06c-45a6-d7f1-97e85663dc27"
      },
      "execution_count": 33,
      "outputs": [
        {
          "output_type": "execute_result",
          "data": {
            "text/plain": [
              "{3, 4, 5}"
            ]
          },
          "metadata": {},
          "execution_count": 33
        }
      ]
    },
    {
      "cell_type": "code",
      "source": [
        "#Question b)"
      ],
      "metadata": {
        "id": "Oe-eUB1yg_yp"
      },
      "execution_count": 34,
      "outputs": []
    },
    {
      "cell_type": "code",
      "source": [
        "#Part 1)"
      ],
      "metadata": {
        "id": "-9L8CVSLhc-e"
      },
      "execution_count": 35,
      "outputs": []
    },
    {
      "cell_type": "code",
      "source": [
        "def AND_op(list1,list2):\n",
        "  return set(list1).intersection(set(list2))\n",
        "IndexDict=invertedIndex()\n"
      ],
      "metadata": {
        "id": "Ld3mqy9MhgUD"
      },
      "execution_count": 36,
      "outputs": []
    },
    {
      "cell_type": "code",
      "source": [
        "for key in IndexDict:\n",
        "  if key=='schizophrenia':\n",
        "    List1=IndexDict[key]\n",
        "  if key=='drug':\n",
        "    List2=IndexDict[key]\n",
        "\n",
        "print(AND_op(List1,List2))"
      ],
      "metadata": {
        "colab": {
          "base_uri": "https://localhost:8080/"
        },
        "id": "Z5t8pCnDhoiB",
        "outputId": "57c021bc-8395-4c6b-fd47-859457afb9aa"
      },
      "execution_count": 37,
      "outputs": [
        {
          "output_type": "stream",
          "name": "stdout",
          "text": [
            "{'Doc2.txt', 'Doc1.txt'}\n"
          ]
        }
      ]
    },
    {
      "cell_type": "code",
      "source": [
        "from nltk.corpus import stopwords\n",
        "from nltk.tokenize  import  word_tokenize\n"
      ],
      "metadata": {
        "id": "hRRcG_Suhq0c"
      },
      "execution_count": 38,
      "outputs": []
    },
    {
      "cell_type": "code",
      "source": [
        "quote=\"Pythoners are very intelligent and work  vey pythonly and\""
      ],
      "metadata": {
        "id": "Slf4s_tZhuP7"
      },
      "execution_count": 39,
      "outputs": []
    },
    {
      "cell_type": "code",
      "source": [
        "import nltk\n",
        "nltk.download('punkt')\n",
        "nltk.download(\"stopwords\")"
      ],
      "metadata": {
        "colab": {
          "base_uri": "https://localhost:8080/"
        },
        "id": "9ZUSorYphvqn",
        "outputId": "820bb138-1d94-4740-cdad-df7a63e18151"
      },
      "execution_count": 40,
      "outputs": [
        {
          "output_type": "stream",
          "name": "stderr",
          "text": [
            "[nltk_data] Downloading package punkt to /root/nltk_data...\n",
            "[nltk_data]   Unzipping tokenizers/punkt.zip.\n",
            "[nltk_data] Downloading package stopwords to /root/nltk_data...\n",
            "[nltk_data]   Unzipping corpora/stopwords.zip.\n"
          ]
        },
        {
          "output_type": "execute_result",
          "data": {
            "text/plain": [
              "True"
            ]
          },
          "metadata": {},
          "execution_count": 40
        }
      ]
    },
    {
      "cell_type": "code",
      "source": [
        "words=word_tokenize(quote)\n",
        "words"
      ],
      "metadata": {
        "colab": {
          "base_uri": "https://localhost:8080/"
        },
        "id": "OV5lXRAGhxIF",
        "outputId": "833cb653-b71e-403c-ce72-3442259b7505"
      },
      "execution_count": 41,
      "outputs": [
        {
          "output_type": "execute_result",
          "data": {
            "text/plain": [
              "['Pythoners',\n",
              " 'are',\n",
              " 'very',\n",
              " 'intelligent',\n",
              " 'and',\n",
              " 'work',\n",
              " 'vey',\n",
              " 'pythonly',\n",
              " 'and']"
            ]
          },
          "metadata": {},
          "execution_count": 41
        }
      ]
    },
    {
      "cell_type": "code",
      "source": [
        "stop_words=set(stopwords.words(\"english\"))\n",
        "\n",
        "print(stop_words)"
      ],
      "metadata": {
        "colab": {
          "base_uri": "https://localhost:8080/"
        },
        "id": "aQC2cg-jhy2L",
        "outputId": "aba3ad25-821f-4cb5-ab1f-698374f7edf3"
      },
      "execution_count": 42,
      "outputs": [
        {
          "output_type": "stream",
          "name": "stdout",
          "text": [
            "{\"you're\", 'her', 'she', 'any', 'my', 'an', 'it', 'itself', 'ain', 'in', 'was', 'himself', 'having', 'does', \"weren't\", \"you've\", 'the', 'him', 'themselves', \"mightn't\", \"doesn't\", 'but', 'to', 'wasn', 'most', \"shouldn't\", 'by', 'other', 'those', 'did', 'under', 'when', \"that'll\", 'mightn', \"mustn't\", 'that', 'each', 'between', 'haven', 'me', 'what', 'while', 'y', 'can', 'down', 'and', 'because', 's', 'or', 'as', 'hadn', 'off', 'ma', 'here', 've', 'we', 'hers', 'further', 'there', 'where', 'through', 'once', 'why', \"couldn't\", 'aren', 'on', 'above', 'again', 'o', \"haven't\", 'wouldn', 'has', 'only', 'of', 'before', 'doesn', 'some', 'own', 'such', 'during', 'more', \"wasn't\", \"should've\", 'from', 'its', 'ours', 'which', 'have', 'below', \"wouldn't\", 'then', 'up', 'doing', 'herself', 'being', 'you', 'should', 'd', 'isn', 'until', 'now', 'are', 'didn', 'your', 'm', 'nor', 'he', 'all', 'ourselves', 'about', 'out', 'these', 'theirs', 't', 'if', 'no', \"didn't\", 'their', 'will', 'shouldn', 'needn', 'll', 'been', 'this', 'with', 'a', 're', 'than', 'who', 'same', 'too', \"you'd\", 'both', 'weren', 'don', 'is', 'very', 'for', 'hasn', 'just', 'am', \"aren't\", \"hasn't\", \"you'll\", 'after', 'shan', \"she's\", \"shan't\", \"it's\", 'them', 'they', \"needn't\", 'myself', 'had', 'couldn', \"isn't\", 'i', 'won', 'his', 'how', 'into', \"don't\", 'yourselves', 'over', 'so', 'at', 'were', \"hadn't\", 'yourself', 'do', 'be', 'whom', \"won't\", 'against', 'yours', 'mustn', 'not', 'few', 'our'}\n"
          ]
        }
      ]
    },
    {
      "cell_type": "code",
      "source": [
        "filtered_list=[]\n",
        "for word in words:\n",
        "  if  word.casefold()  not in stop_words:\n",
        "    filtered_list.append(word)\n",
        "print(filtered_list)\n"
      ],
      "metadata": {
        "colab": {
          "base_uri": "https://localhost:8080/"
        },
        "id": "zivk1m7Lh0aE",
        "outputId": "154612d2-7de4-46bd-ae17-0f1e7be67445"
      },
      "execution_count": 43,
      "outputs": [
        {
          "output_type": "stream",
          "name": "stdout",
          "text": [
            "['Pythoners', 'intelligent', 'work', 'vey', 'pythonly']\n"
          ]
        }
      ]
    },
    {
      "cell_type": "code",
      "source": [
        "[word for word in words if word.casefold() not in stop_words]"
      ],
      "metadata": {
        "colab": {
          "base_uri": "https://localhost:8080/"
        },
        "id": "anGQfIR6h2Eb",
        "outputId": "789caf60-aa7a-475c-de1f-ef7501907cda"
      },
      "execution_count": 44,
      "outputs": [
        {
          "output_type": "execute_result",
          "data": {
            "text/plain": [
              "['Pythoners', 'intelligent', 'work', 'vey', 'pythonly']"
            ]
          },
          "metadata": {},
          "execution_count": 44
        }
      ]
    },
    {
      "cell_type": "code",
      "source": [
        "#Adding new words  to  the stop  words\n",
        "\n",
        "stop_words_new=list(stop_words)\n",
        "stop_words_new.extend([\"intelligent\",\"work\"])\n",
        "\n",
        "filtered_list_new=[]\n",
        "for word in words:\n",
        "  if word.lower() not in stop_words_new:\n",
        "    filtered_list_new.append(word)\n",
        "print(filtered_list_new)\n"
      ],
      "metadata": {
        "colab": {
          "base_uri": "https://localhost:8080/"
        },
        "id": "WqBoEnglh3zc",
        "outputId": "b8657398-0871-4318-ad12-c6517bed53fb"
      },
      "execution_count": 45,
      "outputs": [
        {
          "output_type": "stream",
          "name": "stdout",
          "text": [
            "['Pythoners', 'vey', 'pythonly']\n"
          ]
        }
      ]
    },
    {
      "cell_type": "code",
      "source": [
        "\n",
        "#Part 2)"
      ],
      "metadata": {
        "id": "BCq9Q4gxh7Hr"
      },
      "execution_count": 46,
      "outputs": []
    },
    {
      "cell_type": "code",
      "source": [
        "from nltk.stem import PorterStemmer\n",
        "from nltk.tokenize import word_tokenize"
      ],
      "metadata": {
        "id": "p9pax4p5h98G"
      },
      "execution_count": 47,
      "outputs": []
    },
    {
      "cell_type": "code",
      "source": [
        "stemmer=PorterStemmer()"
      ],
      "metadata": {
        "id": "M0Kn4qA0h_7e"
      },
      "execution_count": 48,
      "outputs": []
    },
    {
      "cell_type": "code",
      "source": [
        "quote=\"Pythoners  are very intelligent  and work very pythonly and now they are pyth\""
      ],
      "metadata": {
        "id": "SahD8ajWiBcp"
      },
      "execution_count": 49,
      "outputs": []
    },
    {
      "cell_type": "code",
      "source": [
        "words=word_tokenize(quote)\n",
        "\n",
        "stemmed_words=[stemmer.stem(word) for word in word]\n",
        "stemmed_words"
      ],
      "metadata": {
        "colab": {
          "base_uri": "https://localhost:8080/"
        },
        "id": "_zfuE2sQiC3b",
        "outputId": "63c11710-7691-46f1-8b15-4e57663d1e4b"
      },
      "execution_count": 50,
      "outputs": [
        {
          "output_type": "execute_result",
          "data": {
            "text/plain": [
              "['a', 'n', 'd']"
            ]
          },
          "metadata": {},
          "execution_count": 50
        }
      ]
    },
    {
      "cell_type": "code",
      "source": [],
      "metadata": {
        "id": "jMxOIqGSiEjo"
      },
      "execution_count": null,
      "outputs": []
    }
  ]
}