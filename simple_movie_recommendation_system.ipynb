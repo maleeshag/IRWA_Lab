{
  "nbformat": 4,
  "nbformat_minor": 0,
  "metadata": {
    "colab": {
      "provenance": [],
      "authorship_tag": "ABX9TyPFy5U9XQFGX0wD0bFG/Dg2",
      "include_colab_link": true
    },
    "kernelspec": {
      "name": "python3",
      "display_name": "Python 3"
    },
    "language_info": {
      "name": "python"
    }
  },
  "cells": [
    {
      "cell_type": "markdown",
      "metadata": {
        "id": "view-in-github",
        "colab_type": "text"
      },
      "source": [
        "<a href=\"https://colab.research.google.com/github/maleeshag/IRWA_Lab/blob/main/simple_movie_recommendation_system.ipynb\" target=\"_parent\"><img src=\"https://colab.research.google.com/assets/colab-badge.svg\" alt=\"Open In Colab\"/></a>"
      ]
    },
    {
      "cell_type": "code",
      "execution_count": 2,
      "metadata": {
        "colab": {
          "base_uri": "https://localhost:8080/"
        },
        "id": "OAVV5S0Si_1J",
        "outputId": "9795224c-e2e5-479f-e9ce-1b12c6dd053d"
      },
      "outputs": [
        {
          "output_type": "stream",
          "name": "stdout",
          "text": [
            "Recommended movie: Inception\n"
          ]
        }
      ],
      "source": [
        "movies={\n",
        "    \"Inception\":{\"title\":\"Inception\",\"genre\":\"Science Fiction,Action\",\"Year\":2010},\n",
        "    \"The Dark Knight\":{\"title\":\"The Dark Knight\",\"genre\":\"Action\",\"Year\":2008},\n",
        "    \"Avatar\":{\"title\":\"Avatar\",\"genre\":\"Science Fiction,Action\",\"Year\":2009},\n",
        "    \"Gladiator\":{\"title\":\"Gladiator\",\"genre\":\"Action,Drama,Adventure\",\"Year\":2000},\n",
        "    \"The Loard of The Rings\":{\"title\":\"The Loard of The Rings: The fellowship of the Ring\",\"genre\":\"Fantasy,Adventure,Action\",\"Year\":2001}\n",
        "}\n",
        "\n",
        "\n",
        "\n",
        "def match_preferences(movie_info,user_preferences):\n",
        "  for category,value in user_preferences.items():\n",
        "    if value and category in movie_info:\n",
        "      if category == \"genre\" and value.lower() not in movie_info[\"genre\"].lower():\n",
        "        return False\n",
        "      elif category == \"year\" and value != movie_info[\"year\"]:\n",
        "        return False\n",
        "\n",
        "\n",
        "  return True\n",
        "\n",
        "\n",
        "\n",
        "def recommend_movie(movies,user_preferences):\n",
        "  matched_movies=[]\n",
        "  for movie_id,movie_info in movies.items():\n",
        "    if match_preferences(movie_info,user_preferences):\n",
        "      matched_movies.append(movie_info[\"title\"])\n",
        "\n",
        "\n",
        "  if matched_movies:\n",
        "    return f\"Recommended movie: {matched_movies[0]}\"\n",
        "\n",
        "  else:\n",
        "    return \"No movies match for your preferences.\"\n",
        "\n",
        "\n",
        "\n",
        "#User giving the options as a dictionary\n",
        "user_preferences={\n",
        "    \"genre\" : \"Action\",\n",
        "    \"year\" : 2010\n",
        "}\n",
        "\n",
        "recommendation = recommend_movie(movies,user_preferences)\n",
        "print(recommendation)"
      ]
    },
    {
      "cell_type": "code",
      "source": [],
      "metadata": {
        "id": "5M_a3tFimZBp"
      },
      "execution_count": null,
      "outputs": []
    }
  ]
}