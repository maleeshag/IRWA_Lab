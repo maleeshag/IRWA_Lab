{
  "nbformat": 4,
  "nbformat_minor": 0,
  "metadata": {
    "colab": {
      "provenance": []
    },
    "kernelspec": {
      "name": "python3",
      "display_name": "Python 3"
    },
    "language_info": {
      "name": "python"
    }
  },
  "cells": [
    {
      "cell_type": "markdown",
      "source": [
        "Question 03\n",
        "\n",
        "\n"
      ],
      "metadata": {
        "id": "bbGYfhnaIYx2"
      }
    },
    {
      "cell_type": "markdown",
      "source": [
        "The code essentially reads and processes multiple documents, normalizes the text, removes stopwords, performs stemming, and constructs an inverted index with positional information for each term in the documents."
      ],
      "metadata": {
        "id": "iXuxCh64LgGF"
      }
    },
    {
      "cell_type": "markdown",
      "source": [
        "Importing necessary libraries: The code begins by importing required libraries such as drive from google.colab, re for regular expressions, defaultdict from collections, PorterStemmer from nltk.stem, stopwords and word_tokenize from nltk, and os for operating system-related operations."
      ],
      "metadata": {
        "id": "zZHA4WwIJmbM"
      }
    },
    {
      "cell_type": "code",
      "source": [
        "from google.colab import drive\n",
        "import re   #regular expressions - regettes\n",
        "from collections import defaultdict\n",
        "from nltk.stem import PorterStemmer\n",
        "from nltk.corpus import stopwords\n",
        "from nltk.tokenize import word_tokenize\n",
        "import os"
      ],
      "metadata": {
        "id": "MiukxjkQQLXn"
      },
      "execution_count": null,
      "outputs": []
    },
    {
      "cell_type": "code",
      "source": [
        "import nltk\n",
        "nltk.download('punkt')\n",
        "nltk.download('stopwords')"
      ],
      "metadata": {
        "colab": {
          "base_uri": "https://localhost:8080/"
        },
        "id": "b05dZGJKRBmg",
        "outputId": "92af0477-48a3-4ed5-9a29-46af86cb7286"
      },
      "execution_count": null,
      "outputs": [
        {
          "output_type": "stream",
          "name": "stderr",
          "text": [
            "[nltk_data] Downloading package punkt to /root/nltk_data...\n",
            "[nltk_data]   Unzipping tokenizers/punkt.zip.\n",
            "[nltk_data] Downloading package stopwords to /root/nltk_data...\n",
            "[nltk_data]   Unzipping corpora/stopwords.zip.\n"
          ]
        },
        {
          "output_type": "execute_result",
          "data": {
            "text/plain": [
              "True"
            ]
          },
          "metadata": {},
          "execution_count": 5
        }
      ]
    },
    {
      "cell_type": "markdown",
      "source": [
        "Mounting Google Drive: The code mounts the Google Drive using the drive.mount() function. This step is specific to Google Colab and allows access to files stored in Google Drive."
      ],
      "metadata": {
        "id": "Osxp-xP-Jp-W"
      }
    },
    {
      "cell_type": "code",
      "source": [
        "drive.mount('/content/drive')"
      ],
      "metadata": {
        "colab": {
          "base_uri": "https://localhost:8080/"
        },
        "id": "z0jy5fJLRScu",
        "outputId": "41a3c4c3-fb88-496c-d075-58f617d51e9f"
      },
      "execution_count": null,
      "outputs": [
        {
          "output_type": "stream",
          "name": "stdout",
          "text": [
            "Drive already mounted at /content/drive; to attempt to forcibly remount, call drive.mount(\"/content/drive\", force_remount=True).\n"
          ]
        }
      ]
    },
    {
      "cell_type": "markdown",
      "source": [
        "Changing the current directory: The code changes the current directory to the specified path in Google Drive using the %cd magic command. This step is also specific to Google Colab and sets the working directory for the subsequent file operations."
      ],
      "metadata": {
        "id": "LIGw8WetNbYV"
      }
    },
    {
      "cell_type": "code",
      "source": [
        "%cd /content/drive/MyDrive/IRWA_lab/positional/"
      ],
      "metadata": {
        "id": "prYF3nJgRbZ6",
        "colab": {
          "base_uri": "https://localhost:8080/"
        },
        "outputId": "201f7292-6506-434b-85ee-b1efded453ea"
      },
      "execution_count": null,
      "outputs": [
        {
          "output_type": "stream",
          "name": "stdout",
          "text": [
            "/content/drive/MyDrive/IRWA_lab/positional\n"
          ]
        }
      ]
    },
    {
      "cell_type": "markdown",
      "source": [
        "Initializing dictionaries: The code creates two dictionaries, dictionary and documents, to store the inverted index and document information, respectively."
      ],
      "metadata": {
        "id": "kOL1nd1MNkrA"
      }
    },
    {
      "cell_type": "code",
      "source": [
        "dictionary=dict()\n",
        "documents=dict()\n"
      ],
      "metadata": {
        "id": "54uod0XDNk3W"
      },
      "execution_count": 22,
      "outputs": []
    },
    {
      "cell_type": "code",
      "source": [
        "dictionary"
      ],
      "metadata": {
        "colab": {
          "base_uri": "https://localhost:8080/"
        },
        "id": "HlxSt8FnZon8",
        "outputId": "d26ad77a-42bf-4f12-860d-428f2e5b1d05"
      },
      "execution_count": 23,
      "outputs": [
        {
          "output_type": "execute_result",
          "data": {
            "text/plain": [
              "{}"
            ]
          },
          "metadata": {},
          "execution_count": 23
        }
      ]
    },
    {
      "cell_type": "code",
      "source": [
        "cwd=os.getcwd()\n",
        "cwd"
      ],
      "metadata": {
        "colab": {
          "base_uri": "https://localhost:8080/",
          "height": 35
        },
        "id": "5On8JXV9OEWm",
        "outputId": "103d06d4-33e2-4af7-e011-648599f37ea3"
      },
      "execution_count": null,
      "outputs": [
        {
          "output_type": "execute_result",
          "data": {
            "text/plain": [
              "'/content/drive/MyDrive/IRWA_lab/positional'"
            ],
            "application/vnd.google.colaboratory.intrinsic+json": {
              "type": "string"
            }
          },
          "metadata": {},
          "execution_count": 10
        }
      ]
    },
    {
      "cell_type": "markdown",
      "source": [
        "Processing each document: The code loops over each document, from 1 to 3, and performs the following operations:"
      ],
      "metadata": {
        "id": "3veNWuYCOt9I"
      }
    },
    {
      "cell_type": "code",
      "source": [
        "\n",
        "for doc_no in range(1,4):\n",
        "  # Reading the document: It reads the contents of the document file (doc_1.txt, doc_2.txt, etc.) using the open() function and stores the content in the variable s. The contents are read\n",
        "  # as a single line and any newline characters are replaced with a space.\n",
        "\n",
        "  with open (cwd+'/doc_'+str(doc_no)+\".txt\",'r') as file:\n",
        "     s=file.read().replace('\\n',' ')\n",
        "\n",
        "  #normalizing\n",
        "  #replacing the unnessary characters( won't - > will not )\n",
        "  # Normalizing the text: The code applies a series of regular expression substitutions to normalize the text. For example, it replaces contractions like \"won't\" with \"will not\", \"can't\" with \"can not\",\n",
        "  #  and so on. It also removes unnecessary characters and replaces commas with spaces.\n",
        "  s=re.sub(' ',' ',s)\n",
        "  s=re.sub(r\"won\\'t\",\"will not\", s)\n",
        "  s=re.sub(r\"can't\",\"can not\", s)\n",
        "  s=re.sub(r'\\,',' ',s)\n",
        "  s=re.sub(r\"n\\'t\",\" not\", s)\n",
        "  s=re.sub(r\"\\'re\",\" are\", s)\n",
        "  s=re.sub(r\"\\'s\",\" is\", s)\n",
        "  s=re.sub(r\"\\'d\",\" would\", s)\n",
        "  s=re.sub(r\"\\'ll\",\" will\", s)\n",
        "  s=re.sub(r\"\\'t\",\" not\", s)\n",
        "  s=re.sub(r\"\\'ve\",\" have\", s)\n",
        "  s=re.sub(r\"\\'m\",\" am\", s)\n",
        "  s=re.sub(r'[^\\w\\s]','', s)   #remove white spaces\n",
        "\n",
        "  # Removing stopwords: The code tokenizes the normalized text into words using the word_tokenize() function from NLTK. It then removes common English stopwords using a list comprehension and the stopwords.words('english')\n",
        "  #  function from NLTK. The resulting list is stored in new_text.\n",
        "  stop_words = stopwords.words('english')\n",
        "  words = word_tokenize(str(s))  #tokenize the s (document's words)\n",
        "\n",
        "  new_text = [word for word in words if word.lower() not in stop_words]\n",
        "\n",
        "\n",
        "  key = \"doc_\" + str(doc_no)\n",
        "\n",
        "print(\"new_text:\",new_text)"
      ],
      "metadata": {
        "id": "v10rD9wmgtLv",
        "colab": {
          "base_uri": "https://localhost:8080/"
        },
        "outputId": "0be92171-3f59-4b78-c8df-5fd56cf71b70"
      },
      "execution_count": null,
      "outputs": [
        {
          "output_type": "stream",
          "name": "stdout",
          "text": [
            "new_text: ['Remarks', 'Foreign', 'Policy', 'National', 'Press', 'Club', 'Washington', 'Thank', 'opportunity', 'speak', 'thank', 'Center', 'National', 'Interest', 'honoring', 'invitation', 'would', 'like', 'talk', 'today', 'develop', 'new', 'foreign', 'policy', 'direction', 'country', 'one', 'replaces', 'randomness', 'purpose', 'ideology', 'strategy', 'chaos', 'peace', 'time', 'shake', 'rust', 'America', 'foreign', 'policy', 'time', 'invite', 'new', 'voices', 'new', 'visions', 'fold', 'direction', 'outline', 'today', 'also', 'return', 'us', 'timeless', 'principle', 'foreign', 'policy', 'always', 'put', 'interests', 'American', 'people', 'American', 'security', 'else', 'foundation', 'every', 'decision', 'make', 'America', 'First', 'major', 'overriding', 'theme', 'administration', 'chart', 'path', 'forward', 'must', 'first', 'briefly', 'look', 'back', 'lot', 'proud', '1940s', 'saved', 'world', 'Greatest', 'Generation', 'beat', 'back', 'Nazis', 'Japanese', 'Imperialists', 'saved', 'world', 'time', 'totalitarian', 'Communism', 'Cold', 'War', 'lasted', 'decades', 'Democrats', 'Republicans', 'working', 'together', 'got', 'Mr', 'Gorbachev', 'heed', 'words', 'President', 'Reagan', 'said', 'tear', 'wall', 'History', 'forget', 'Unfortunately', 'Cold', 'War', 'foreign', 'policy', 'veered', 'badly', 'course', 'failed', 'develop', 'new', 'vision', 'new', 'time', 'fact', 'time', 'went', 'foreign', 'policy', 'began', 'make', 'less', 'less', 'sense', 'Logic', 'replaced', 'foolishness', 'arrogance', 'led', 'one', 'foreign', 'policy', 'disaster', 'another', 'went', 'mistakes', 'Iraq', 'Egypt', 'Libya', 'President', 'Obama', 'line', 'sand', 'Syria', 'actions', 'helped', 'throw', 'region', 'chaos', 'gave', 'ISIS', 'space', 'needs', 'grow', 'prosper', 'began', 'dangerous', 'idea', 'could', 'make', 'Western', 'democracies', 'countries', 'experience', 'interest', 'becoming', 'Western', 'Democracy', 'tore', 'institutions', 'surprised', 'unleashed']\n"
          ]
        }
      ]
    },
    {
      "cell_type": "markdown",
      "source": [
        "  Stemming: The code initializes a PorterStemmer object and applies stemming to each word in new_text using a for loop. The stemmed words are stored in the stemmed list."
      ],
      "metadata": {
        "id": "Iip6HpU9Q9Ka"
      }
    },
    {
      "cell_type": "code",
      "source": [
        "ps = PorterStemmer()\n",
        "stemmed = []\n"
      ],
      "metadata": {
        "id": "Qox8VmZyQqUy"
      },
      "execution_count": null,
      "outputs": []
    },
    {
      "cell_type": "code",
      "source": [
        "#stemming\n",
        "for i in new_text:\n",
        "  stemmed.append(ps.stem(i))\n",
        "\n",
        "print(\"stemmed:\",stemmed)"
      ],
      "metadata": {
        "colab": {
          "base_uri": "https://localhost:8080/"
        },
        "id": "xm4SAhm1RD6i",
        "outputId": "33974d63-076b-44b4-9277-9fb4f4d00f93"
      },
      "execution_count": null,
      "outputs": [
        {
          "output_type": "stream",
          "name": "stdout",
          "text": [
            "stemmed: ['remark', 'foreign', 'polici', 'nation', 'press', 'club', 'washington', 'thank', 'opportun', 'speak', 'thank', 'center', 'nation', 'interest', 'honor', 'invit', 'would', 'like', 'talk', 'today', 'develop', 'new', 'foreign', 'polici', 'direct', 'countri', 'one', 'replac', 'random', 'purpos', 'ideolog', 'strategi', 'chao', 'peac', 'time', 'shake', 'rust', 'america', 'foreign', 'polici', 'time', 'invit', 'new', 'voic', 'new', 'vision', 'fold', 'direct', 'outlin', 'today', 'also', 'return', 'us', 'timeless', 'principl', 'foreign', 'polici', 'alway', 'put', 'interest', 'american', 'peopl', 'american', 'secur', 'els', 'foundat', 'everi', 'decis', 'make', 'america', 'first', 'major', 'overrid', 'theme', 'administr', 'chart', 'path', 'forward', 'must', 'first', 'briefli', 'look', 'back', 'lot', 'proud', '1940', 'save', 'world', 'greatest', 'gener', 'beat', 'back', 'nazi', 'japanes', 'imperialist', 'save', 'world', 'time', 'totalitarian', 'commun', 'cold', 'war', 'last', 'decad', 'democrat', 'republican', 'work', 'togeth', 'got', 'mr', 'gorbachev', 'heed', 'word', 'presid', 'reagan', 'said', 'tear', 'wall', 'histori', 'forget', 'unfortun', 'cold', 'war', 'foreign', 'polici', 'veer', 'badli', 'cours', 'fail', 'develop', 'new', 'vision', 'new', 'time', 'fact', 'time', 'went', 'foreign', 'polici', 'began', 'make', 'less', 'less', 'sens', 'logic', 'replac', 'foolish', 'arrog', 'led', 'one', 'foreign', 'polici', 'disast', 'anoth', 'went', 'mistak', 'iraq', 'egypt', 'libya', 'presid', 'obama', 'line', 'sand', 'syria', 'action', 'help', 'throw', 'region', 'chao', 'gave', 'isi', 'space', 'need', 'grow', 'prosper', 'began', 'danger', 'idea', 'could', 'make', 'western', 'democraci', 'countri', 'experi', 'interest', 'becom', 'western', 'democraci', 'tore', 'institut', 'surpris', 'unleash']\n"
          ]
        }
      ]
    },
    {
      "cell_type": "markdown",
      "source": [
        "Creating positional index posting list: The code creates a temporary dictionary temp_dict to store the positional index for each term in the document. It assigns a number to each word to identify its position and adds it to the corresponding key in temp_dict."
      ],
      "metadata": {
        "id": "hX4kvSkoRe53"
      }
    },
    {
      "cell_type": "code",
      "source": [
        "temp_dict=dict()\n",
        "a=0"
      ],
      "metadata": {
        "id": "iK6aCrhARScY"
      },
      "execution_count": null,
      "outputs": []
    },
    {
      "cell_type": "code",
      "source": [
        "for x in stemmed:\n",
        "  #assign numbers to each word to identify the position\n",
        "  key=x\n",
        "  temp_dict.setdefault(key,[])\n",
        "  temp_dict[key].append(a)\n",
        "  a+=1\n",
        "\n",
        "temp_dict"
      ],
      "metadata": {
        "colab": {
          "base_uri": "https://localhost:8080/"
        },
        "id": "-M1rxZ5URuj0",
        "outputId": "ec087a27-16e0-415f-ab8a-c4eccb8afcb1"
      },
      "execution_count": 24,
      "outputs": [
        {
          "output_type": "execute_result",
          "data": {
            "text/plain": [
              "{'remark': [0, 192],\n",
              " 'foreign': [1, 22, 38, 55, 123, 137, 150, 193, 214, 230, 247, 315, 329, 342],\n",
              " 'polici': [2, 23, 39, 56, 124, 138, 151, 194, 215, 231, 248, 316, 330, 343],\n",
              " 'nation': [3, 12, 195, 204],\n",
              " 'press': [4, 196],\n",
              " 'club': [5, 197],\n",
              " 'washington': [6, 198],\n",
              " 'thank': [7, 10, 199, 202],\n",
              " 'opportun': [8, 200],\n",
              " 'speak': [9, 201],\n",
              " 'center': [11, 203],\n",
              " 'interest': [13, 59, 184, 205, 251, 376],\n",
              " 'honor': [14, 206],\n",
              " 'invit': [15, 41, 207, 233],\n",
              " 'would': [16, 208],\n",
              " 'like': [17, 209],\n",
              " 'talk': [18, 210],\n",
              " 'today': [19, 49, 211, 241],\n",
              " 'develop': [20, 129, 212, 321],\n",
              " 'new': [21, 42, 44, 130, 132, 213, 234, 236, 322, 324],\n",
              " 'direct': [24, 47, 216, 239],\n",
              " 'countri': [25, 182, 217, 374],\n",
              " 'one': [26, 149, 218, 341],\n",
              " 'replac': [27, 145, 219, 337],\n",
              " 'random': [28, 220],\n",
              " 'purpos': [29, 221],\n",
              " 'ideolog': [30, 222],\n",
              " 'strategi': [31, 223],\n",
              " 'chao': [32, 168, 224, 360],\n",
              " 'peac': [33, 225],\n",
              " 'time': [34, 40, 97, 133, 135, 226, 232, 289, 325, 327],\n",
              " 'shake': [35, 227],\n",
              " 'rust': [36, 228],\n",
              " 'america': [37, 69, 229, 261],\n",
              " 'voic': [43, 235],\n",
              " 'vision': [45, 131, 237, 323],\n",
              " 'fold': [46, 238],\n",
              " 'outlin': [48, 240],\n",
              " 'also': [50, 242],\n",
              " 'return': [51, 243],\n",
              " 'us': [52, 244],\n",
              " 'timeless': [53, 245],\n",
              " 'principl': [54, 246],\n",
              " 'alway': [57, 249],\n",
              " 'put': [58, 250],\n",
              " 'american': [60, 62, 252, 254],\n",
              " 'peopl': [61, 253],\n",
              " 'secur': [63, 255],\n",
              " 'els': [64, 256],\n",
              " 'foundat': [65, 257],\n",
              " 'everi': [66, 258],\n",
              " 'decis': [67, 259],\n",
              " 'make': [68, 140, 179, 260, 332, 371],\n",
              " 'first': [70, 79, 262, 271],\n",
              " 'major': [71, 263],\n",
              " 'overrid': [72, 264],\n",
              " 'theme': [73, 265],\n",
              " 'administr': [74, 266],\n",
              " 'chart': [75, 267],\n",
              " 'path': [76, 268],\n",
              " 'forward': [77, 269],\n",
              " 'must': [78, 270],\n",
              " 'briefli': [80, 272],\n",
              " 'look': [81, 273],\n",
              " 'back': [82, 91, 274, 283],\n",
              " 'lot': [83, 275],\n",
              " 'proud': [84, 276],\n",
              " '1940': [85, 277],\n",
              " 'save': [86, 95, 278, 287],\n",
              " 'world': [87, 96, 279, 288],\n",
              " 'greatest': [88, 280],\n",
              " 'gener': [89, 281],\n",
              " 'beat': [90, 282],\n",
              " 'nazi': [92, 284],\n",
              " 'japanes': [93, 285],\n",
              " 'imperialist': [94, 286],\n",
              " 'totalitarian': [98, 290],\n",
              " 'commun': [99, 291],\n",
              " 'cold': [100, 121, 292, 313],\n",
              " 'war': [101, 122, 293, 314],\n",
              " 'last': [102, 294],\n",
              " 'decad': [103, 295],\n",
              " 'democrat': [104, 296],\n",
              " 'republican': [105, 297],\n",
              " 'work': [106, 298],\n",
              " 'togeth': [107, 299],\n",
              " 'got': [108, 300],\n",
              " 'mr': [109, 301],\n",
              " 'gorbachev': [110, 302],\n",
              " 'heed': [111, 303],\n",
              " 'word': [112, 304],\n",
              " 'presid': [113, 159, 305, 351],\n",
              " 'reagan': [114, 306],\n",
              " 'said': [115, 307],\n",
              " 'tear': [116, 308],\n",
              " 'wall': [117, 309],\n",
              " 'histori': [118, 310],\n",
              " 'forget': [119, 311],\n",
              " 'unfortun': [120, 312],\n",
              " 'veer': [125, 317],\n",
              " 'badli': [126, 318],\n",
              " 'cours': [127, 319],\n",
              " 'fail': [128, 320],\n",
              " 'fact': [134, 326],\n",
              " 'went': [136, 154, 328, 346],\n",
              " 'began': [139, 175, 331, 367],\n",
              " 'less': [141, 142, 333, 334],\n",
              " 'sens': [143, 335],\n",
              " 'logic': [144, 336],\n",
              " 'foolish': [146, 338],\n",
              " 'arrog': [147, 339],\n",
              " 'led': [148, 340],\n",
              " 'disast': [152, 344],\n",
              " 'anoth': [153, 345],\n",
              " 'mistak': [155, 347],\n",
              " 'iraq': [156, 348],\n",
              " 'egypt': [157, 349],\n",
              " 'libya': [158, 350],\n",
              " 'obama': [160, 352],\n",
              " 'line': [161, 353],\n",
              " 'sand': [162, 354],\n",
              " 'syria': [163, 355],\n",
              " 'action': [164, 356],\n",
              " 'help': [165, 357],\n",
              " 'throw': [166, 358],\n",
              " 'region': [167, 359],\n",
              " 'gave': [169, 361],\n",
              " 'isi': [170, 362],\n",
              " 'space': [171, 363],\n",
              " 'need': [172, 364],\n",
              " 'grow': [173, 365],\n",
              " 'prosper': [174, 366],\n",
              " 'danger': [176, 368],\n",
              " 'idea': [177, 369],\n",
              " 'could': [178, 370],\n",
              " 'western': [180, 186, 372, 378],\n",
              " 'democraci': [181, 187, 373, 379],\n",
              " 'experi': [183, 375],\n",
              " 'becom': [185, 377],\n",
              " 'tore': [188, 380],\n",
              " 'institut': [189, 381],\n",
              " 'surpris': [190, 382],\n",
              " 'unleash': [191, 383]}"
            ]
          },
          "metadata": {},
          "execution_count": 24
        }
      ]
    },
    {
      "cell_type": "code",
      "source": [
        "dictionary\n"
      ],
      "metadata": {
        "id": "G-mwlJ2NTFTI",
        "outputId": "24588e2c-f924-4124-94cd-86d002b0da0e",
        "colab": {
          "base_uri": "https://localhost:8080/"
        }
      },
      "execution_count": 25,
      "outputs": [
        {
          "output_type": "execute_result",
          "data": {
            "text/plain": [
              "{}"
            ]
          },
          "metadata": {},
          "execution_count": 25
        }
      ]
    },
    {
      "cell_type": "markdown",
      "source": [
        "Updating the inverted index: The code checks if each term in temp_dict already exists in the dictionary. If it does, it adds the positional index for the current document to the existing posting list. If the term is not present in the dictionary, it creates a new key and adds the positional index for the current document."
      ],
      "metadata": {
        "id": "Rs6dNW0xSlcI"
      }
    },
    {
      "cell_type": "code",
      "source": [
        "for x in temp_dict:\n",
        "  #check whether the term already in the dictionary\n",
        "  if x in dictionary:\n",
        "    dictionary[x][doc_no]=temp_dict.get(x)\n",
        "\n",
        "  else:\n",
        "    #if not, add a new key assigning the term to the dictionary\n",
        "    key=x\n",
        "    dictionary.setdefault(key,[])\n",
        "    dictionary[key]={}\n",
        "    dictionary[x][doc_no]=temp_dict.get(x)"
      ],
      "metadata": {
        "id": "r_egDckXSrr5"
      },
      "execution_count": 26,
      "outputs": []
    },
    {
      "cell_type": "code",
      "source": [
        "dictionary\n"
      ],
      "metadata": {
        "colab": {
          "base_uri": "https://localhost:8080/"
        },
        "id": "99S-iaVHahr3",
        "outputId": "b9ff5afc-5443-4223-b40c-8dce6a798bde"
      },
      "execution_count": 27,
      "outputs": [
        {
          "output_type": "execute_result",
          "data": {
            "text/plain": [
              "{'remark': {3: [0, 192]},\n",
              " 'foreign': {3: [1,\n",
              "   22,\n",
              "   38,\n",
              "   55,\n",
              "   123,\n",
              "   137,\n",
              "   150,\n",
              "   193,\n",
              "   214,\n",
              "   230,\n",
              "   247,\n",
              "   315,\n",
              "   329,\n",
              "   342]},\n",
              " 'polici': {3: [2,\n",
              "   23,\n",
              "   39,\n",
              "   56,\n",
              "   124,\n",
              "   138,\n",
              "   151,\n",
              "   194,\n",
              "   215,\n",
              "   231,\n",
              "   248,\n",
              "   316,\n",
              "   330,\n",
              "   343]},\n",
              " 'nation': {3: [3, 12, 195, 204]},\n",
              " 'press': {3: [4, 196]},\n",
              " 'club': {3: [5, 197]},\n",
              " 'washington': {3: [6, 198]},\n",
              " 'thank': {3: [7, 10, 199, 202]},\n",
              " 'opportun': {3: [8, 200]},\n",
              " 'speak': {3: [9, 201]},\n",
              " 'center': {3: [11, 203]},\n",
              " 'interest': {3: [13, 59, 184, 205, 251, 376]},\n",
              " 'honor': {3: [14, 206]},\n",
              " 'invit': {3: [15, 41, 207, 233]},\n",
              " 'would': {3: [16, 208]},\n",
              " 'like': {3: [17, 209]},\n",
              " 'talk': {3: [18, 210]},\n",
              " 'today': {3: [19, 49, 211, 241]},\n",
              " 'develop': {3: [20, 129, 212, 321]},\n",
              " 'new': {3: [21, 42, 44, 130, 132, 213, 234, 236, 322, 324]},\n",
              " 'direct': {3: [24, 47, 216, 239]},\n",
              " 'countri': {3: [25, 182, 217, 374]},\n",
              " 'one': {3: [26, 149, 218, 341]},\n",
              " 'replac': {3: [27, 145, 219, 337]},\n",
              " 'random': {3: [28, 220]},\n",
              " 'purpos': {3: [29, 221]},\n",
              " 'ideolog': {3: [30, 222]},\n",
              " 'strategi': {3: [31, 223]},\n",
              " 'chao': {3: [32, 168, 224, 360]},\n",
              " 'peac': {3: [33, 225]},\n",
              " 'time': {3: [34, 40, 97, 133, 135, 226, 232, 289, 325, 327]},\n",
              " 'shake': {3: [35, 227]},\n",
              " 'rust': {3: [36, 228]},\n",
              " 'america': {3: [37, 69, 229, 261]},\n",
              " 'voic': {3: [43, 235]},\n",
              " 'vision': {3: [45, 131, 237, 323]},\n",
              " 'fold': {3: [46, 238]},\n",
              " 'outlin': {3: [48, 240]},\n",
              " 'also': {3: [50, 242]},\n",
              " 'return': {3: [51, 243]},\n",
              " 'us': {3: [52, 244]},\n",
              " 'timeless': {3: [53, 245]},\n",
              " 'principl': {3: [54, 246]},\n",
              " 'alway': {3: [57, 249]},\n",
              " 'put': {3: [58, 250]},\n",
              " 'american': {3: [60, 62, 252, 254]},\n",
              " 'peopl': {3: [61, 253]},\n",
              " 'secur': {3: [63, 255]},\n",
              " 'els': {3: [64, 256]},\n",
              " 'foundat': {3: [65, 257]},\n",
              " 'everi': {3: [66, 258]},\n",
              " 'decis': {3: [67, 259]},\n",
              " 'make': {3: [68, 140, 179, 260, 332, 371]},\n",
              " 'first': {3: [70, 79, 262, 271]},\n",
              " 'major': {3: [71, 263]},\n",
              " 'overrid': {3: [72, 264]},\n",
              " 'theme': {3: [73, 265]},\n",
              " 'administr': {3: [74, 266]},\n",
              " 'chart': {3: [75, 267]},\n",
              " 'path': {3: [76, 268]},\n",
              " 'forward': {3: [77, 269]},\n",
              " 'must': {3: [78, 270]},\n",
              " 'briefli': {3: [80, 272]},\n",
              " 'look': {3: [81, 273]},\n",
              " 'back': {3: [82, 91, 274, 283]},\n",
              " 'lot': {3: [83, 275]},\n",
              " 'proud': {3: [84, 276]},\n",
              " '1940': {3: [85, 277]},\n",
              " 'save': {3: [86, 95, 278, 287]},\n",
              " 'world': {3: [87, 96, 279, 288]},\n",
              " 'greatest': {3: [88, 280]},\n",
              " 'gener': {3: [89, 281]},\n",
              " 'beat': {3: [90, 282]},\n",
              " 'nazi': {3: [92, 284]},\n",
              " 'japanes': {3: [93, 285]},\n",
              " 'imperialist': {3: [94, 286]},\n",
              " 'totalitarian': {3: [98, 290]},\n",
              " 'commun': {3: [99, 291]},\n",
              " 'cold': {3: [100, 121, 292, 313]},\n",
              " 'war': {3: [101, 122, 293, 314]},\n",
              " 'last': {3: [102, 294]},\n",
              " 'decad': {3: [103, 295]},\n",
              " 'democrat': {3: [104, 296]},\n",
              " 'republican': {3: [105, 297]},\n",
              " 'work': {3: [106, 298]},\n",
              " 'togeth': {3: [107, 299]},\n",
              " 'got': {3: [108, 300]},\n",
              " 'mr': {3: [109, 301]},\n",
              " 'gorbachev': {3: [110, 302]},\n",
              " 'heed': {3: [111, 303]},\n",
              " 'word': {3: [112, 304]},\n",
              " 'presid': {3: [113, 159, 305, 351]},\n",
              " 'reagan': {3: [114, 306]},\n",
              " 'said': {3: [115, 307]},\n",
              " 'tear': {3: [116, 308]},\n",
              " 'wall': {3: [117, 309]},\n",
              " 'histori': {3: [118, 310]},\n",
              " 'forget': {3: [119, 311]},\n",
              " 'unfortun': {3: [120, 312]},\n",
              " 'veer': {3: [125, 317]},\n",
              " 'badli': {3: [126, 318]},\n",
              " 'cours': {3: [127, 319]},\n",
              " 'fail': {3: [128, 320]},\n",
              " 'fact': {3: [134, 326]},\n",
              " 'went': {3: [136, 154, 328, 346]},\n",
              " 'began': {3: [139, 175, 331, 367]},\n",
              " 'less': {3: [141, 142, 333, 334]},\n",
              " 'sens': {3: [143, 335]},\n",
              " 'logic': {3: [144, 336]},\n",
              " 'foolish': {3: [146, 338]},\n",
              " 'arrog': {3: [147, 339]},\n",
              " 'led': {3: [148, 340]},\n",
              " 'disast': {3: [152, 344]},\n",
              " 'anoth': {3: [153, 345]},\n",
              " 'mistak': {3: [155, 347]},\n",
              " 'iraq': {3: [156, 348]},\n",
              " 'egypt': {3: [157, 349]},\n",
              " 'libya': {3: [158, 350]},\n",
              " 'obama': {3: [160, 352]},\n",
              " 'line': {3: [161, 353]},\n",
              " 'sand': {3: [162, 354]},\n",
              " 'syria': {3: [163, 355]},\n",
              " 'action': {3: [164, 356]},\n",
              " 'help': {3: [165, 357]},\n",
              " 'throw': {3: [166, 358]},\n",
              " 'region': {3: [167, 359]},\n",
              " 'gave': {3: [169, 361]},\n",
              " 'isi': {3: [170, 362]},\n",
              " 'space': {3: [171, 363]},\n",
              " 'need': {3: [172, 364]},\n",
              " 'grow': {3: [173, 365]},\n",
              " 'prosper': {3: [174, 366]},\n",
              " 'danger': {3: [176, 368]},\n",
              " 'idea': {3: [177, 369]},\n",
              " 'could': {3: [178, 370]},\n",
              " 'western': {3: [180, 186, 372, 378]},\n",
              " 'democraci': {3: [181, 187, 373, 379]},\n",
              " 'experi': {3: [183, 375]},\n",
              " 'becom': {3: [185, 377]},\n",
              " 'tore': {3: [188, 380]},\n",
              " 'institut': {3: [189, 381]},\n",
              " 'surpris': {3: [190, 382]},\n",
              " 'unleash': {3: [191, 383]}}"
            ]
          },
          "metadata": {},
          "execution_count": 27
        }
      ]
    },
    {
      "cell_type": "code",
      "source": [
        "print(stop_words)\n",
        "print(words)"
      ],
      "metadata": {
        "id": "MUu3qM_ZjgiL",
        "colab": {
          "base_uri": "https://localhost:8080/"
        },
        "outputId": "73c775fe-d356-4443-a1f2-ea1a4f5647d1"
      },
      "execution_count": 28,
      "outputs": [
        {
          "output_type": "stream",
          "name": "stdout",
          "text": [
            "['i', 'me', 'my', 'myself', 'we', 'our', 'ours', 'ourselves', 'you', \"you're\", \"you've\", \"you'll\", \"you'd\", 'your', 'yours', 'yourself', 'yourselves', 'he', 'him', 'his', 'himself', 'she', \"she's\", 'her', 'hers', 'herself', 'it', \"it's\", 'its', 'itself', 'they', 'them', 'their', 'theirs', 'themselves', 'what', 'which', 'who', 'whom', 'this', 'that', \"that'll\", 'these', 'those', 'am', 'is', 'are', 'was', 'were', 'be', 'been', 'being', 'have', 'has', 'had', 'having', 'do', 'does', 'did', 'doing', 'a', 'an', 'the', 'and', 'but', 'if', 'or', 'because', 'as', 'until', 'while', 'of', 'at', 'by', 'for', 'with', 'about', 'against', 'between', 'into', 'through', 'during', 'before', 'after', 'above', 'below', 'to', 'from', 'up', 'down', 'in', 'out', 'on', 'off', 'over', 'under', 'again', 'further', 'then', 'once', 'here', 'there', 'when', 'where', 'why', 'how', 'all', 'any', 'both', 'each', 'few', 'more', 'most', 'other', 'some', 'such', 'no', 'nor', 'not', 'only', 'own', 'same', 'so', 'than', 'too', 'very', 's', 't', 'can', 'will', 'just', 'don', \"don't\", 'should', \"should've\", 'now', 'd', 'll', 'm', 'o', 're', 've', 'y', 'ain', 'aren', \"aren't\", 'couldn', \"couldn't\", 'didn', \"didn't\", 'doesn', \"doesn't\", 'hadn', \"hadn't\", 'hasn', \"hasn't\", 'haven', \"haven't\", 'isn', \"isn't\", 'ma', 'mightn', \"mightn't\", 'mustn', \"mustn't\", 'needn', \"needn't\", 'shan', \"shan't\", 'shouldn', \"shouldn't\", 'wasn', \"wasn't\", 'weren', \"weren't\", 'won', \"won't\", 'wouldn', \"wouldn't\"]\n",
            "['Remarks', 'on', 'Foreign', 'Policy', 'at', 'the', 'National', 'Press', 'Club', 'in', 'Washington', 'Thank', 'you', 'for', 'the', 'opportunity', 'to', 'speak', 'to', 'you', 'and', 'thank', 'you', 'to', 'the', 'Center', 'for', 'the', 'National', 'Interest', 'for', 'honoring', 'me', 'with', 'this', 'invitation', 'I', 'would', 'like', 'to', 'talk', 'today', 'about', 'how', 'to', 'develop', 'a', 'new', 'foreign', 'policy', 'direction', 'for', 'our', 'country', 'one', 'that', 'replaces', 'randomness', 'with', 'purpose', 'ideology', 'with', 'strategy', 'and', 'chaos', 'with', 'peace', 'It', 'is', 'time', 'to', 'shake', 'the', 'rust', 'off', 'of', 'America', 'is', 'foreign', 'policy', 'It', 'is', 'time', 'to', 'invite', 'new', 'voices', 'and', 'new', 'visions', 'into', 'the', 'fold', 'The', 'direction', 'I', 'will', 'outline', 'today', 'will', 'also', 'return', 'us', 'to', 'a', 'timeless', 'principle', 'My', 'foreign', 'policy', 'will', 'always', 'put', 'the', 'interests', 'of', 'the', 'American', 'people', 'and', 'American', 'security', 'above', 'all', 'else', 'That', 'will', 'be', 'the', 'foundation', 'of', 'every', 'decision', 'that', 'I', 'will', 'make', 'America', 'First', 'will', 'be', 'the', 'major', 'and', 'overriding', 'theme', 'of', 'my', 'administration', 'But', 'to', 'chart', 'our', 'path', 'forward', 'we', 'must', 'first', 'briefly', 'look', 'back', 'We', 'have', 'a', 'lot', 'to', 'be', 'proud', 'of', 'In', 'the', '1940s', 'we', 'saved', 'the', 'world', 'The', 'Greatest', 'Generation', 'beat', 'back', 'the', 'Nazis', 'and', 'the', 'Japanese', 'Imperialists', 'Then', 'we', 'saved', 'the', 'world', 'again', 'this', 'time', 'from', 'totalitarian', 'Communism', 'The', 'Cold', 'War', 'lasted', 'for', 'decades', 'but', 'we', 'won', 'Democrats', 'and', 'Republicans', 'working', 'together', 'got', 'Mr', 'Gorbachev', 'to', 'heed', 'the', 'words', 'of', 'President', 'Reagan', 'when', 'he', 'said', 'tear', 'down', 'this', 'wall', 'History', 'will', 'not', 'forget', 'what', 'we', 'did', 'Unfortunately', 'after', 'the', 'Cold', 'War', 'our', 'foreign', 'policy', 'veered', 'badly', 'off', 'course', 'We', 'failed', 'to', 'develop', 'a', 'new', 'vision', 'for', 'a', 'new', 'time', 'In', 'fact', 'as', 'time', 'went', 'on', 'our', 'foreign', 'policy', 'began', 'to', 'make', 'less', 'and', 'less', 'sense', 'Logic', 'was', 'replaced', 'with', 'foolishness', 'and', 'arrogance', 'and', 'this', 'led', 'to', 'one', 'foreign', 'policy', 'disaster', 'after', 'another', 'We', 'went', 'from', 'mistakes', 'in', 'Iraq', 'to', 'Egypt', 'to', 'Libya', 'to', 'President', 'Obama', 'is', 'line', 'in', 'the', 'sand', 'in', 'Syria', 'Each', 'of', 'these', 'actions', 'have', 'helped', 'to', 'throw', 'the', 'region', 'into', 'chaos', 'and', 'gave', 'ISIS', 'the', 'space', 'it', 'needs', 'to', 'grow', 'and', 'prosper', 'It', 'all', 'began', 'with', 'the', 'dangerous', 'idea', 'that', 'we', 'could', 'make', 'Western', 'democracies', 'out', 'of', 'countries', 'that', 'had', 'no', 'experience', 'or', 'interest', 'in', 'becoming', 'a', 'Western', 'Democracy', 'We', 'tore', 'up', 'what', 'institutions', 'they', 'had', 'and', 'then', 'were', 'surprised', 'at', 'what', 'we', 'unleashed']\n"
          ]
        }
      ]
    },
    {
      "cell_type": "code",
      "source": [
        "print(temp_dict)"
      ],
      "metadata": {
        "id": "LOiIg7gshCXr",
        "colab": {
          "base_uri": "https://localhost:8080/"
        },
        "outputId": "cc2c5fd8-0492-405c-ef6b-79f54a60b845"
      },
      "execution_count": 29,
      "outputs": [
        {
          "output_type": "stream",
          "name": "stdout",
          "text": [
            "{'remark': [0, 192], 'foreign': [1, 22, 38, 55, 123, 137, 150, 193, 214, 230, 247, 315, 329, 342], 'polici': [2, 23, 39, 56, 124, 138, 151, 194, 215, 231, 248, 316, 330, 343], 'nation': [3, 12, 195, 204], 'press': [4, 196], 'club': [5, 197], 'washington': [6, 198], 'thank': [7, 10, 199, 202], 'opportun': [8, 200], 'speak': [9, 201], 'center': [11, 203], 'interest': [13, 59, 184, 205, 251, 376], 'honor': [14, 206], 'invit': [15, 41, 207, 233], 'would': [16, 208], 'like': [17, 209], 'talk': [18, 210], 'today': [19, 49, 211, 241], 'develop': [20, 129, 212, 321], 'new': [21, 42, 44, 130, 132, 213, 234, 236, 322, 324], 'direct': [24, 47, 216, 239], 'countri': [25, 182, 217, 374], 'one': [26, 149, 218, 341], 'replac': [27, 145, 219, 337], 'random': [28, 220], 'purpos': [29, 221], 'ideolog': [30, 222], 'strategi': [31, 223], 'chao': [32, 168, 224, 360], 'peac': [33, 225], 'time': [34, 40, 97, 133, 135, 226, 232, 289, 325, 327], 'shake': [35, 227], 'rust': [36, 228], 'america': [37, 69, 229, 261], 'voic': [43, 235], 'vision': [45, 131, 237, 323], 'fold': [46, 238], 'outlin': [48, 240], 'also': [50, 242], 'return': [51, 243], 'us': [52, 244], 'timeless': [53, 245], 'principl': [54, 246], 'alway': [57, 249], 'put': [58, 250], 'american': [60, 62, 252, 254], 'peopl': [61, 253], 'secur': [63, 255], 'els': [64, 256], 'foundat': [65, 257], 'everi': [66, 258], 'decis': [67, 259], 'make': [68, 140, 179, 260, 332, 371], 'first': [70, 79, 262, 271], 'major': [71, 263], 'overrid': [72, 264], 'theme': [73, 265], 'administr': [74, 266], 'chart': [75, 267], 'path': [76, 268], 'forward': [77, 269], 'must': [78, 270], 'briefli': [80, 272], 'look': [81, 273], 'back': [82, 91, 274, 283], 'lot': [83, 275], 'proud': [84, 276], '1940': [85, 277], 'save': [86, 95, 278, 287], 'world': [87, 96, 279, 288], 'greatest': [88, 280], 'gener': [89, 281], 'beat': [90, 282], 'nazi': [92, 284], 'japanes': [93, 285], 'imperialist': [94, 286], 'totalitarian': [98, 290], 'commun': [99, 291], 'cold': [100, 121, 292, 313], 'war': [101, 122, 293, 314], 'last': [102, 294], 'decad': [103, 295], 'democrat': [104, 296], 'republican': [105, 297], 'work': [106, 298], 'togeth': [107, 299], 'got': [108, 300], 'mr': [109, 301], 'gorbachev': [110, 302], 'heed': [111, 303], 'word': [112, 304], 'presid': [113, 159, 305, 351], 'reagan': [114, 306], 'said': [115, 307], 'tear': [116, 308], 'wall': [117, 309], 'histori': [118, 310], 'forget': [119, 311], 'unfortun': [120, 312], 'veer': [125, 317], 'badli': [126, 318], 'cours': [127, 319], 'fail': [128, 320], 'fact': [134, 326], 'went': [136, 154, 328, 346], 'began': [139, 175, 331, 367], 'less': [141, 142, 333, 334], 'sens': [143, 335], 'logic': [144, 336], 'foolish': [146, 338], 'arrog': [147, 339], 'led': [148, 340], 'disast': [152, 344], 'anoth': [153, 345], 'mistak': [155, 347], 'iraq': [156, 348], 'egypt': [157, 349], 'libya': [158, 350], 'obama': [160, 352], 'line': [161, 353], 'sand': [162, 354], 'syria': [163, 355], 'action': [164, 356], 'help': [165, 357], 'throw': [166, 358], 'region': [167, 359], 'gave': [169, 361], 'isi': [170, 362], 'space': [171, 363], 'need': [172, 364], 'grow': [173, 365], 'prosper': [174, 366], 'danger': [176, 368], 'idea': [177, 369], 'could': [178, 370], 'western': [180, 186, 372, 378], 'democraci': [181, 187, 373, 379], 'experi': [183, 375], 'becom': [185, 377], 'tore': [188, 380], 'institut': [189, 381], 'surpris': [190, 382], 'unleash': [191, 383]}\n"
          ]
        }
      ]
    },
    {
      "cell_type": "code",
      "source": [],
      "metadata": {
        "id": "udTxssAThEdG"
      },
      "execution_count": null,
      "outputs": []
    },
    {
      "cell_type": "code",
      "source": [],
      "metadata": {
        "id": "m1uY-px-ii4Z"
      },
      "execution_count": null,
      "outputs": []
    },
    {
      "cell_type": "code",
      "source": [],
      "metadata": {
        "id": "8UmBXYjYi62E"
      },
      "execution_count": null,
      "outputs": []
    }
  ]
}